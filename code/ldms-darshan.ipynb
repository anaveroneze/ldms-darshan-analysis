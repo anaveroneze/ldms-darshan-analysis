{
 "cells": [
  {
   "cell_type": "markdown",
   "metadata": {},
   "source": [
    "# Darshan-LDMS Integrator\n",
    "\n",
    "A framework that integrates Darshan and LDMS to provide low-latency monitoring of I/O event data during runtime. \n",
    "\n",
    "**[Darshan](https://www.mcs.anl.gov/research/projects/darshan/)**: a lightweight I/O characterization tool that transparently captures application I/O behavior from HPC applications with minimal overhead.\n",
    "\n",
    "**[Lightweight Distributed Metric Service (LDMS)](https://ovis-hpc.readthedocs.io/en/latest/ldms/ldms-quickstart.html)**: a low-overhead production monitoring system that can run on \n",
    "HPC machines. Capability to collect, transport, aggregate and store timeseries data during runtime.\n",
    "\n",
    "![Darshan-LDMS Integration](Darshan-LDMSIntegration.png)\n",
    "\n",
    "### Main benefits\n",
    "\n",
    "- Storage in CSV format: easier to be processed by most data analysis tools\n",
    "- Absolute time-series data with higher granularity: can be used to detect I/O-related runtime bottlenecks, captures more details about the execution\n",
    "- Captures read/write/close/open/flushes\n",
    "- Captures POSIX, MPI-IO and STDIO\n",
    "- Captures and distincts between STDIN/STDOUT/STDERR for POSIX opens\n",
    "\n",
    "### Local installation\n",
    "\n",
    "- LDMS-Darshan Integration is available on Darshan's main branch: https://github.com/darshan-hpc/darshan/blob/main/darshan-runtime/lib/darshan-ldms.c\n",
    "- Instructions to install LDMS streams and Darshan-LDMS Integration here: https://ovis-hpc.readthedocs.io/en/latest/ldms/ldms-streams.html#darshan\n",
    "\n",
    "### Installation in the cloud AWS\n",
    "\n",
    "- Notebook Tutorial [here](./aws_configuring.ipynb)\n",
    "- Video tutorial - one node [here](https://drive.google.com/file/d/1xFmOxJpRhOOWyEAMkv6fxEGIFoTA4_YZ/view?usp=sharing)\n",
    "- Video tutorial - multinode [here](https://drive.google.com/file/d/1kucLEIjtf3sB74HQ26iXd71TRH37eAOQ/view?usp=sharing)\n",
    "\n",
    "### Example file collected by the LDMS-Darshan Integrator"
   ]
  },
  {
   "cell_type": "code",
   "execution_count": 2,
   "metadata": {},
   "outputs": [
    {
     "name": "stdout",
     "output_type": "stream",
     "text": [
      "uid,exe,job_id,rank,ProducerName,file,record_id,module,type,max_byte,switches,flushes,cnt,op,pt_sel,irreg_hslab,reg_hslab,ndims,npoints,off,len,start,dur,total,timestamp\n",
      "12345,/projects/ovis/darshanConnector/apps/rhel9.7/ior/build/bin/ior,17901504,0,n19,<STDIN>,92233720368547758,STDIO,MET,-1,-1,-1,1,open,-1,-1,-1,-1,-1,-1,-1,0.000000,0.000000,0.000000,1702064106.980885\n",
      "12345,/projects/ovis/darshanConnector/apps/rhel9.7/ior/build/bin/ior,17901504,0,n19,<STDOUT>,92233720368547758,STDIO,MET,-1,-1,-1,1,open,-1,-1,-1,-1,-1,-1,-1,0.000000,0.000000,0.000000,1702064106.980885\n",
      "12345,/projects/ovis/darshanConnector/apps/rhel9.7/ior/build/bin/ior,17901504,0,n19,<STDERR>,72382572414791935,STDIO,MET,-1,-1,-1,1,open,-1,-1,-1,-1,-1,-1,-1,0.000000,0.000000,0.000000,1702064106.980885\n",
      "12345,N/A,17901504,0,n19,N/A,92233720368547758,STDIO,MOD,51,-1,0,1,write,-1,-1,-1,-1,-1,0,52,0.024641,0.000008,0.000008,1702064107.005534\n"
     ]
    }
   ],
   "source": [
    "!head -n5 ./../ior/eclipse/darshan-ldms-output/csv/8m-4m/test_all_jobs.csv"
   ]
  },
  {
   "cell_type": "markdown",
   "metadata": {},
   "source": [
    "\n",
    "## Performance analysis and diagnosis of parallel I/O applications\n",
    "\n",
    "Our goal is to close the gap between tracing and diagnosing of I/O applications using LDMS-Darshan integration logs. Darshan-LDMS is a framework that integrates Darshan and LDMS to provide low-latency monitoring of I/O event data during runtime. Absolute timestamps can be used to diagnose these bottlenecks by correlating the I/O logs with other system monitoring logs - deeper dive into the source of the problem.\n",
    "\n",
    "![static analysis post collecting data](static_analysis.png)\n",
    "\n",
    "#### Input data\n",
    "\n",
    "LDMS-Darshan Integration CSV file. We have examples for experiments with the HPC [IOR benchmark](https://github.com/hpc/ior) in [this directory](https://github.com/anaveroneze/ldms-darshan-analysis/tree/main/ior/eclipse/darshan-ldms-output/csv/8m-4m). Each file constains information about a single job executions, but the analysis code can analyse and provide results about distinct jobs in the same file.\n",
    "\n",
    "#### Output\n",
    "\n",
    "- Jobs summary file\n",
    "- Load imbalance evaluation\n",
    "- Visualizations\n",
    "\n",
    "#### Progress Rate Imbalance Metrics\n",
    "\n",
    "To measure the execution time distribution among the ranks utilized.\n",
    "\n",
    "**[Average](https://www.researchgate.net/publication/301700628_Using_SimGrid_to_Evaluate_the_Impact_of_AMPI_Load_Balancing_In_a_Geophysics_HPC_Application?channel=doi&linkId=5723a6f208ae262228aa71a4&showFulltext=true)**: measures the average time spent computing.\n",
    "\n",
    "$$\n",
    "\\text{AVG} = \\frac{\\text{Total application runtime}}{\\text{Number of ranks}}\n",
    "$$\n",
    "\n",
    "**[Imbalance time](https://link.springer.com/chapter/10.1007/978-3-540-74466-5_17)**: Measures the execution time that would be gained if all ranks execute for the same time.\n",
    "\n",
    "$$\n",
    "\\text{IT} = \\text{Maximum Load} - \\text{AVG}\n",
    "$$\n",
    "\n",
    "**[Percent Imbalance](https://dl.acm.org/doi/10.1145/2304576.2304601)**: Measures the performance % that could be gained with an ideal load distribution.\n",
    "\n",
    "$$\n",
    "\\text{PI} = \\left( \\frac{\\text{Maximum Load}}{\\text{AVG}} - 1 \\right) \\times 100\n",
    "$$\n",
    "\n",
    "\n",
    "**[Imbalance Percentage](https://link.springer.com/chapter/10.1007/978-3-540-74466-5_17)**: Measures how bad is the imbalance in a range of 0 to 100, where a perfectly balanced code would have 0 imbalance percentage. If the IP is lower than the PI it suggests that the load imbalance is more influenced by the number of ranks than by the difference between the maximum and average loads.\n",
    "\n",
    "$$\n",
    "\\text{IP} = \\left( \\frac{\\text{Maximum Load} - \\text{AVG}}{\\text{Maximum Load}} \\right) \\times \\left( \\frac{\\text{Number of ranks}}{\\text{Number of ranks} - 1} \\right)\n",
    "$$"
   ]
  },
  {
   "cell_type": "markdown",
   "metadata": {},
   "source": [
    "## Define **input** filename and **output** filepath"
   ]
  },
  {
   "cell_type": "code",
   "execution_count": 2,
   "metadata": {},
   "outputs": [],
   "source": [
    "INPUTFILE=\"./../ior/eclipse/darshan-ldms-output/csv/8m-4m/17901517-IOR_pscratch_1024_none.csv\"\n",
    "FILEPATH=\"./../ior/eclipse/darshan-ldms-output/csv/8m-4m/\""
   ]
  },
  {
   "cell_type": "markdown",
   "metadata": {},
   "source": [
    "## Code for capturing statistics about the execution:"
   ]
  },
  {
   "cell_type": "code",
   "execution_count": 3,
   "metadata": {},
   "outputs": [],
   "source": [
    "import os, csv, time, glob, argparse, psutil\n",
    "import numpy as np\n",
    "import pandas as pd\n",
    "import matplotlib.pyplot as plt\n",
    "from matplotlib.patches import Rectangle\n",
    "import matplotlib.dates as mdates\n",
    "from math import sqrt \n",
    "import rpy2.robjects as ro\n",
    "import seaborn as sns\n",
    "from datetime import datetime\n",
    "\n",
    "class Job:\n",
    "\n",
    "    def __init__(self, job, ranks, nodes, users, filename, exe):\n",
    "        \n",
    "        self.job = job\n",
    "        self.ranks = ranks\n",
    "        self.nodes = nodes\n",
    "        self.users = users\n",
    "        self.filename = filename\n",
    "        self.exe = exe\n",
    "\n",
    "def app_phase(df, output_file, self):\n",
    "    write_to_file(\"---------------------------------------\")\n",
    "    write_to_file(\"EXECUTION SUMMARY PER APPLICATION PHASE:\")\n",
    "    write_to_file(\"---------------------------------------\")\n",
    "\n",
    "# Calculate and write general statistics in a file\n",
    "def get_statistics(df, output_file, self):\n",
    "\n",
    "    with open(output_file, 'w') as f:\n",
    "\n",
    "        def write_to_file(*args):\n",
    "            print(\" \".join(map(str, args)), file=f, flush=True)\n",
    "\n",
    "        write_to_file(\"---------------------------------------\")\n",
    "        write_to_file(\"JOB CHARACTERISTICS:\")\n",
    "        write_to_file(\"---------------------------------------\")\n",
    "        write_to_file(\"Job ID:\", self.job)\n",
    "        write_to_file(len(self.ranks), \"Rank (s):\", sorted(self.ranks))\n",
    "        write_to_file(len(self.nodes), \"Node (s):\", sorted(self.nodes))\n",
    "        write_to_file(\"User ID:\", self.users)\n",
    "        write_to_file(\"Directory:\", self.exe)\n",
    "        write_to_file(\"Modules collected:\", df['module'].unique())\n",
    "        write_to_file(\"Module data (MOD):\", list(df.type).count('MOD'))\n",
    "        write_to_file(\"Meta data (MET):\", list(df.type).count('MET'))\n",
    "        exec_time = round(df['end'].max() - df['start'].min(), 5)\n",
    "        write_to_file(\"I/O runtime:\", exec_time, \"seconds\")\n",
    "        write_to_file(\"Bandwidth (MiB/second):\", round((df['len'].sum() / exec_time) / (1024 ** 2), 2))\n",
    "\n",
    "        df_read = df[df['op'] == \"read\"]\n",
    "        df_write = df[df['op'] == \"write\"]\n",
    "\n",
    "        write_to_file(\"---------------------------------------\")\n",
    "        write_to_file(\"I/O OPERATIONS:\")\n",
    "        write_to_file(\"---------------------------------------\")\n",
    "\n",
    "        current_op = None\n",
    "        phase_start = None\n",
    "        total_durations = {'read': 0, 'write': 0, 'open': 0, 'close': 0}\n",
    "\n",
    "        def update_total_duration(op, phase_start, phase_end, length):\n",
    "            if current_op is not None and current_op == op:\n",
    "                total_durations[op] += (phase_end - phase_start)\n",
    "\n",
    "        for index, row in df.iterrows():\n",
    "            if current_op is None or current_op != row['op']:\n",
    "                update_total_duration(current_op, phase_start, row['end'], row['len'])\n",
    "                current_op = row['op']\n",
    "                phase_start = row['start']\n",
    "\n",
    "        # Get the last phase\n",
    "        update_total_duration(current_op, phase_start, row['end'], row['len'])\n",
    "\n",
    "        pivot_df = df.pivot_table(index=None, columns='op', values='len', aggfunc='sum')\n",
    "        for op, duration in total_durations.items():\n",
    "            write_to_file(f'Duration {op}s: {round(duration, 4)} seconds')\n",
    "\n",
    "        write_to_file(\"\\nREADS:\", round(df_read['len'].sum() / (1024 ** 2)),  \"(MiB)\")\n",
    "        write_to_file(\"Max size per rank:\", round(df_read.groupby('rank')['len'].agg('sum').max() / (1024 ** 2)), \"MiB\")\n",
    "        write_to_file(\"Min size per rank:\", round(df_read.groupby('rank')['len'].agg('sum').min() / (1024 ** 2)), \"MiB\")\n",
    "        write_to_file(\"Bandwidth (MiB/second):\", round((df_read['len'].sum() / (df_read['end'].max() - df_read['start'].min())) / (1024 ** 2), 2))\n",
    "        \n",
    "        write_to_file(\"\\nWRITES:\", round(df_write['len'].sum() / (1024 ** 2)), \"(MiB)\")\n",
    "        write_to_file(\"Max size per rank:\", round(df_write.groupby('rank')['len'].agg('sum').max() / (1024 ** 2)), \"MiB\")\n",
    "        write_to_file(\"Min size per rank:\", round(df_write.groupby('rank')['len'].agg('sum').min() / (1024 ** 2)), \"MiB\")\n",
    "        write_to_file(\"Bandwidth (MiB/second):\", round((df_write['len'].sum() / (df_write['end'].max() - df_write['start'].min())) / (1024 ** 2),2))\n",
    "\n",
    "        # IMBALANCE METRICS:\n",
    "        write_to_file(\"---------------------------------------\")\n",
    "        write_to_file(\"PROGRESS RATE IMBALANCE:\")\n",
    "        write_to_file(\"---------------------------------------\")\n",
    "        # Get difference between execution time and time processing I/O per rank\n",
    "        \n",
    "        df_idle = df.groupby('rank')['dur'].sum().reset_index()\n",
    "        df_idle.columns = ['Rank ID', 'Rank I/O Time']\n",
    "        df_idle['Total Bytes'] = df.groupby('rank')['len'].agg('sum')\n",
    "        df_idle['Rank I/O Time'] = round(df_idle['Rank I/O Time'], 2)\n",
    "        df_idle['Total I/O Time - Rank I/O Time'] = round(exec_time - df_idle['Rank I/O Time'], 2)\n",
    "        df_idle = df_idle.sort_values(by='Rank I/O Time', ascending=False)\n",
    "\n",
    "        write_to_file(\"Total execution time:\", exec_time, \"seconds\")\n",
    "        num_ranks = df_idle['Rank I/O Time'].nunique()\n",
    "        average = df_idle['Rank I/O Time'].sum() / num_ranks\n",
    "        write_to_file(\"- Average:\", round(average), \"seconds\")\n",
    "        it = df_idle['Rank I/O Time'].max() - average\n",
    "        write_to_file(\"- Imbalance Time:\", round(it, 2), \"seconds\")\n",
    "        pi = ((df_idle['Rank I/O Time'].max() / average) - 1) * 100\n",
    "        write_to_file(\"- Percent Imbalance:\", round(pi, 2), \"%\")\n",
    "        ip = (it / df_idle['Rank I/O Time'].max()) * (num_ranks / (num_ranks - 1))\n",
    "        write_to_file(\"- Imbalance Percentage:\", round(ip, 2), \"%\")\n",
    "        std = np.std(df_idle['Rank I/O Time'])\n",
    "        write_to_file(\"- Standard deviation\", round(std, 2), \"seconds\")\n",
    "\n",
    "        write_to_file(\"---------------------------------------\")\n",
    "        write_to_file(\"SUMMARY PER RANK: \\n(ordered by higher I/O time)\")\n",
    "        write_to_file(\"---------------------------------------\")\n",
    "        df.loc[:, 'start'] = pd.to_datetime(df['start'], unit='s').dt.round('S')\n",
    "        df.loc[:, 'end'] = pd.to_datetime(df['end'], unit='s').dt.round('S')\n",
    "        # write_to_file(df_idle)\n",
    "        write_to_file(df_idle.to_string(index=False))"
   ]
  },
  {
   "cell_type": "markdown",
   "metadata": {},
   "source": [
    "## Run to get jobs report:"
   ]
  },
  {
   "cell_type": "code",
   "execution_count": 4,
   "metadata": {},
   "outputs": [
    {
     "name": "stdout",
     "output_type": "stream",
     "text": [
      "Execution time: 6.886864185333252 seconds\n"
     ]
    }
   ],
   "source": [
    "# Read CSV file, define jobs characteristics and calculate load metrics\n",
    "def main(filename, filepath): \n",
    "\n",
    "    df = pd.read_csv(filename, engine=\"pyarrow\")\n",
    "\n",
    "    # Get basic info about each Job:\n",
    "    local_df = pd.DataFrame()\n",
    "    for i in df.job_id.unique():\n",
    "        \n",
    "        local_df = df[df['job_id'] == i].copy()\n",
    "        job = Job(i, local_df['rank'].unique(), local_df['ProducerName'].unique(),local_df['uid'].unique(), \n",
    "            local_df['file'].unique(), local_df['exe'].unique())\n",
    "\n",
    "        local_df.loc[:, 'start'] = local_df['timestamp'] - local_df['dur']\n",
    "        local_df.loc[:, 'end'] = local_df['timestamp']\n",
    "        \n",
    "        # Job characteristics and statistics:  \n",
    "        output_file = filename.replace(\".csv\", \".txt\")\n",
    "        get_statistics(local_df, output_file, job)\n",
    "\n",
    "if __name__ == '__main__':\n",
    "\n",
    "    start_time_exec = time.time()\n",
    "    main(INPUTFILE, FILEPATH)   \n",
    "    end_time_exec = time.time()\n",
    "    print(\"Execution time:\", end_time_exec - start_time_exec, \"seconds\")"
   ]
  },
  {
   "cell_type": "markdown",
   "metadata": {},
   "source": [
    "## Checking output file:"
   ]
  },
  {
   "cell_type": "code",
   "execution_count": 5,
   "metadata": {},
   "outputs": [
    {
     "name": "stdout",
     "output_type": "stream",
     "text": [
      "---------------------------------------\n",
      "JOB CHARACTERISTICS:\n",
      "---------------------------------------\n",
      "Job ID: 17901517\n",
      "36 Rank (s): [0, 1, 2, 3, 4, 5, 6, 7, 8, 9, 10, 11, 12, 13, 14, 15, 16, 17, 18, 19, 20, 21, 22, 23, 24, 25, 26, 27, 28, 29, 30, 31, 32, 33, 34, 35]\n",
      "1 Node (s): ['n19']\n",
      "User ID: [12345]\n",
      "Directory: ['/projects/ovis/darshanConnector/apps/rhel9.7/ior/build/bin/ior' 'N/A']\n",
      "Modules collected: ['STDIO' 'POSIX']\n",
      "Module data (MOD): 147672\n",
      "Meta data (MET): 75\n",
      "I/O runtime: 99.25431 seconds\n",
      "Bandwidth (MiB/second): 5942.55\n",
      "---------------------------------------\n",
      "I/O OPERATIONS:\n",
      "---------------------------------------\n",
      "Duration reads: 67.6207 seconds\n",
      "Duration writes: 32.9481 seconds\n",
      "Duration opens: 0.5302 seconds\n",
      "Duration closes: 0.2308 seconds\n",
      "\n",
      "READS: 294912 (MiB)\n",
      "Max size per rank: 8192 MiB\n",
      "Min size per rank: 8192 MiB\n",
      "Bandwidth (MiB/second): 4418.12\n",
      "\n",
      "WRITES: 294912 (MiB)\n",
      "Max size per rank: 8192 MiB\n",
      "Min size per rank: 8192 MiB\n",
      "Bandwidth (MiB/second): 2971.83\n",
      "---------------------------------------\n",
      "PROGRESS RATE IMBALANCE:\n",
      "---------------------------------------\n",
      "Total execution time: 99.25431 seconds\n",
      "- Average: 92 seconds\n",
      "- Imbalance Time: 6.53 seconds\n",
      "- Percent Imbalance: 7.12 %\n",
      "- Imbalance Percentage: 0.07 %\n",
      "- Standard deviation 5.57 seconds\n",
      "---------------------------------------\n",
      "SUMMARY PER RANK: \n",
      "(ordered by higher I/O time)\n",
      "---------------------------------------\n",
      " Rank ID  Rank I/O Time  Total Bytes  Total I/O Time - Rank I/O Time\n",
      "       8          98.27  17179869180                            0.98\n",
      "      26          93.27  17179869180                            5.98\n",
      "      30          93.12  17179869180                            6.13\n",
      "      12          92.05  17179869180                            7.20\n",
      "      34          92.04  17179869180                            7.21\n",
      "      31          91.89  17179869180                            7.36\n",
      "       3          91.88  17179869180                            7.37\n",
      "      29          91.48  17179869180                            7.77\n",
      "       6          91.46  17179869180                            7.79\n",
      "      32          91.43  17179869180                            7.82\n",
      "      25          91.27  17179869180                            7.98\n",
      "       1          91.06  17179869180                            8.19\n",
      "      24          90.78  17179869180                            8.47\n",
      "      19          90.75  17179869180                            8.50\n",
      "      27          90.53  17179869180                            8.72\n",
      "       2          90.39  17179869180                            8.86\n",
      "      18          90.39  17179869180                            8.86\n",
      "      21          89.86  17179869180                            9.39\n",
      "      33          89.79  17179869180                            9.46\n",
      "       5          89.77  17179869180                            9.48\n",
      "      35          89.72  17179869180                            9.53\n",
      "       4          89.65  17179869180                            9.60\n",
      "      28          89.48  17179869180                            9.77\n",
      "      14          89.47  17179869180                            9.78\n",
      "       0          89.36  17179871528                            9.89\n",
      "      22          89.34  17179869180                            9.91\n",
      "      10          89.20  17179869180                           10.05\n",
      "       7          88.91  17179869180                           10.34\n",
      "      15          87.63  17179869180                           11.62\n",
      "      23          87.19  17179869180                           12.06\n",
      "      11          87.17  17179869180                           12.08\n",
      "      20          87.03  17179869180                           12.22\n",
      "      17          86.84  17179869180                           12.41\n",
      "      13          85.44  17179869180                           13.81\n",
      "      16          83.02  17179869180                           16.23\n",
      "       9          59.81  17179869180                           39.44\n"
     ]
    }
   ],
   "source": [
    "!cat ./../ior/eclipse/darshan-ldms-output/csv/8m-4m/17901517-IOR_pscratch_1024_none.txt"
   ]
  },
  {
   "cell_type": "markdown",
   "metadata": {},
   "source": [
    "## Code for visualizations in Python:"
   ]
  },
  {
   "cell_type": "code",
   "execution_count": 38,
   "metadata": {},
   "outputs": [],
   "source": [
    "# SPATIAL AND TEMPORAL VISUALIZATIONS\n",
    "\n",
    "def plot_time_per_operation(df, filepath, job_id):\n",
    "\n",
    "    colors = {'write': 'blue', 'open': 'green', 'close': 'red', 'read': 'orange'} \n",
    "    \n",
    "    fig, axes = plt.subplots(1, 4, figsize=(8, 5)) \n",
    "    for ax, operation in zip(axes, ['write','read', 'open', 'close']):\n",
    "        df_subset = df[df['op'] == operation].groupby('rank')['dur'].sum().reset_index()\n",
    "        df_subset.plot(kind='barh', y='dur', x='rank', color=colors[operation], ax=ax, width=0.8)\n",
    "\n",
    "        ax.set_xlabel('Total I/O duration (sec)')\n",
    "        ax.set_ylabel('Rank')\n",
    "        ax.set_yticks(range(0, 37, 4))\n",
    "        ax.set_title(operation.capitalize()) \n",
    "        ax.get_legend().remove()\n",
    "        ax.set_xlim(0, df_subset['dur'].max())\n",
    "\n",
    "    plt.tight_layout()\n",
    "    plt.show()\n",
    "    plt.clf()\n",
    "    plt.close()\n",
    "\n",
    "    return\n",
    "\n",
    "\n",
    "def plot_average_duration(df, filepath, job_id):\n",
    "\n",
    "    df['timestamp'] = pd.to_datetime(df['timestamp'], unit='s')\n",
    "    df['start'] = df['timestamp'] - pd.to_timedelta(df['dur'], unit='s')\n",
    "    df['duration'] = (df['timestamp'] - df['start']).dt.total_seconds()\n",
    "    df_write = df[df['op'] == \"write\"].copy()\n",
    "    df_read = df[df['op'] == \"read\"].copy()\n",
    "\n",
    "    grouped_write = df_write.groupby(pd.Grouper(key='timestamp', freq='1s'))['duration'].mean()\n",
    "    grouped_read = df_read.groupby(pd.Grouper(key='timestamp', freq='1s'))['duration'].mean()\n",
    "\n",
    "    plt.clf()\n",
    "    plt.figure(figsize=(8, 2))\n",
    "\n",
    "    plt.plot(grouped_write.index, grouped_write.values, label='write', color='blue')\n",
    "    plt.plot(grouped_read.index, grouped_read.values, label='read', color='orange')\n",
    "\n",
    "    plt.xlim(df['timestamp'].min(), df['timestamp'].max())\n",
    "    plt.ylim(0, max(grouped_write.max(), grouped_read.max()))\n",
    "    plt.xlabel('Timestamp')\n",
    "    plt.ylabel('Average Duration (secs)')\n",
    "    plt.legend(title='Operation', loc='upper right', bbox_to_anchor=(1.0, 1.0))\n",
    "    plt.show()\n",
    "    plt.clf()\n",
    "    plt.close()\n",
    "\n",
    "    return\n",
    "\n",
    "# Bandwidth per rank and operation \n",
    "def plot_bandwidth_per_rank(df, filepath, job_id):\n",
    "\n",
    "    df = df[df['op'].isin(['write', 'read'])]\n",
    "    df['bw'] = np.where(df['dur'] != 0, df['len'] / (df['dur'] * 2**20), 0)\n",
    "    colors = {'write': 'blue', 'read': 'orange'}\n",
    "    \n",
    "    fig, axes = plt.subplots(1, 2, figsize=(8, 5)) \n",
    "    for ax, operation in zip(axes, ['write','read']):\n",
    "        df_subset = df[df['op'] == operation].groupby('rank')['bw'].mean().reset_index()\n",
    "        df_subset.plot(kind='barh', y='bw', x='rank', color=colors[operation], ax=ax, width=0.8)\n",
    "\n",
    "        ax.set_xlabel('Bandwidth (MiB/second)')\n",
    "        ax.set_ylabel('Rank')\n",
    "        ax.set_yticks(range(0, 37, 4))\n",
    "        ax.set_title(operation.capitalize()) \n",
    "        ax.get_legend().remove()\n",
    "\n",
    "    plt.tight_layout()\n",
    "    plt.show()\n",
    "    plt.clf()\n",
    "    plt.close()\n",
    "\n",
    "    return\n",
    "\n",
    "def plot_temporal(df, filepath, job_id):\n",
    "\n",
    "    # df = df.head(5000)\n",
    "    df['start'] = pd.to_datetime(df['timestamp'], unit='s') - pd.to_timedelta(df['dur'], unit='s')\n",
    "    df[['start', 'timestamp']] = df[['start', 'timestamp']].apply(pd.to_datetime)\n",
    "    df['dur'] = pd.to_timedelta(df['dur'], unit='s')\n",
    "\n",
    "    colors = {'write': 'blue', 'open': 'green', 'close': 'red', 'read': 'orange'} \n",
    "    df['color'] = df['op'].map(colors)\n",
    "    fig, ax = plt.subplots(figsize=(15, 3))\n",
    "\n",
    "    ax.barh(y=df['rank'], width=df['dur'], left=df['start'], color=df['color'])\n",
    "    ax.set_xlabel('Timestamp')\n",
    "    ax.set_ylabel('Rank')\n",
    "    ax.xaxis.set_major_formatter(mdates.DateFormatter('%H:%M:%S'))\n",
    "    ax.set_yticks(range(0, 37, 4))\n",
    "\n",
    "    legend_labels = [plt.Line2D([0], [0], color=color, linewidth=3, linestyle='-') for op, color in colors.items()]\n",
    "    ax.legend(legend_labels, colors.keys(), loc='upper right')\n",
    "    ax.set_ylim(df['rank'].min() - 1, df['rank'].max() + 1)\n",
    "\n",
    "    plt.show()\n",
    "    plt.clf()\n",
    "    plt.close()\n",
    "\n",
    "    return\n"
   ]
  },
  {
   "cell_type": "markdown",
   "metadata": {},
   "source": [
    "## Run to get visualizations:"
   ]
  },
  {
   "cell_type": "code",
   "execution_count": 39,
   "metadata": {},
   "outputs": [
    {
     "data": {
      "image/png": "[encoded data removed]",
      "text/plain": [
       "<Figure size 576x360 with 4 Axes>"
      ]
     },
     "metadata": {
      "needs_background": "light"
     },
     "output_type": "display_data"
    },
    {
     "data": {
      "image/png": "[encoded data removed]",
      "text/plain": [
       "<Figure size 576x360 with 2 Axes>"
      ]
     },
     "metadata": {
      "needs_background": "light"
     },
     "output_type": "display_data"
    },
    {
     "data": {
      "text/plain": [
       "<Figure size 432x288 with 0 Axes>"
      ]
     },
     "metadata": {},
     "output_type": "display_data"
    },
    {
     "data": {
      "image/png": "[encoded data removed]",
      "text/plain": [
       "<Figure size 576x144 with 1 Axes>"
      ]
     },
     "metadata": {
      "needs_background": "light"
     },
     "output_type": "display_data"
    },
    {
     "data": {
      "image/png": "[encoded data removed]",
      "text/plain": [
       "<Figure size 1080x216 with 1 Axes>"
      ]
     },
     "metadata": {
      "needs_background": "light"
     },
     "output_type": "display_data"
    },
    {
     "name": "stdout",
     "output_type": "stream",
     "text": [
      "Execution time: 137.52683758735657 seconds\n"
     ]
    }
   ],
   "source": [
    "import warnings \n",
    "warnings.filterwarnings('ignore') \n",
    "\n",
    "# Read file and get visualizations\n",
    "def main(filename, filepath): \n",
    "\n",
    "    df = pd.read_csv(filename, engine=\"pyarrow\")\n",
    "\n",
    "    # Get basic info about each Job:\n",
    "    local_df = pd.DataFrame()\n",
    "    for i in df.job_id.unique():\n",
    "        \n",
    "        local_df = df[df['job_id'] == i].copy()\n",
    "\n",
    "        #################################################################\n",
    "        # WRITE OPERATIONS\n",
    "        #################################################################\n",
    "        df_op = pd.DataFrame()\n",
    "        plot_time_per_operation(df, filepath, i)\n",
    "        plot_bandwidth_per_rank(df, filepath, i)\n",
    "        plot_average_duration(df, filepath, i)\n",
    "        plot_temporal(df, filepath, i)\n",
    "        \n",
    "if __name__ == '__main__':\n",
    "\n",
    "    start_time_exec = time.time()\n",
    "    main(INPUTFILE, FILEPATH)   \n",
    "    end_time_exec = time.time()\n",
    "    print(\"Execution time:\", end_time_exec - start_time_exec, \"seconds\")"
   ]
  }
 ],
 "metadata": {
  "kernelspec": {
   "display_name": "Python 3 (ipykernel)",
   "language": "python",
   "name": "python3"
  },
  "language_info": {
   "codemirror_mode": {
    "name": "ipython",
    "version": 3
   },
   "file_extension": ".py",
   "mimetype": "text/x-python",
   "name": "python",
   "nbconvert_exporter": "python",
   "pygments_lexer": "ipython3",
   "version": "3.8.10"
  },
  "vscode": {
   "interpreter": {
    "hash": "e7370f93d1d0cde622a1f8e1c04877d8463912d04d973331ad4851f04de6915a"
   }
  }
 },
 "nbformat": 4,
 "nbformat_minor": 4
}
