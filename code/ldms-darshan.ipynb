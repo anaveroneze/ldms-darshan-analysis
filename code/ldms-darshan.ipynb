{
 "cells": [
  {
   "cell_type": "markdown",
   "metadata": {},
   "source": [
    "# [Darshan-LDMS Integrator](https://ovis-hpc.readthedocs.io/en/latest/ldms/ldms-streams.html#darshans)\n",
    "\n",
    "### A **framework** that integrates Darshan + LDMS to provide low-latency monitoring of I/O events during runtime. \n",
    "\n",
    "CARTOON HERE\n",
    "\n",
    "- **[Darshan](https://www.mcs.anl.gov/research/projects/darshan/)**: a lightweight I/O characterization tool that captures I/O access information in HPC applications storing information in memory during execution. When the job ends, it merges I/O data from all processes and generates a profile and/or trace (DXT) file.\n",
    "\n",
    "- **[Lightweight Distributed Metric Service (LDMS)](https://ovis-hpc.readthedocs.io/en/latest/ldms/ldms-quickstart.html)**: a low-overhead production monitoring system for HPC machines. Capability to collect, transport, aggregate and store timeseries data during runtime.\n",
    "\n",
    "![Darshan-LDMS Integration](newdarshanconnector.jpg)\n",
    "\n",
    "### Main benefits\n",
    "\n",
    "- Captures information at runtime: without filesystem overhead or on node memory cost\n",
    "- Captures absolute time-series data with high precision: can be used to correlate with other system utilization logs\n",
    "- Captures read/write/**close/open/flushes**\n",
    "- Captures POSIX, MPI-IO and stdio: distinguishes between **STDIN/STDOUT/STDERR** \n",
    "- Stores all application processes in JSON or CSV format: easier to be processed by most data analysis tools\n",
    "\n",
    "### Installation\n",
    "\n",
    "- Documentation: https://ovis-hpc.readthedocs.io/en/latest/ldms/ldms-streams.html#darshan\n",
    "- Available in Darshan's main branch: https://github.com/darshan-hpc/darshan/blob/main/darshan-runtime/lib/darshan-ldms.c\n",
    "\n",
    "### Installation in the cloud AWS\n",
    "\n",
    "- Notebook Tutorial [here](./aws_configuring.ipynb)\n",
    "- Video tutorial - one node [here](https://drive.google.com/file/d/1xFmOxJpRhOOWyEAMkv6fxEGIFoTA4_YZ/view?usp=sharing)\n",
    "- Video tutorial - multinode [here](https://drive.google.com/file/d/1kucLEIjtf3sB74HQ26iXd71TRH37eAOQ/view?usp=sharing)\n",
    "\n",
    "### Example of CSV file collected:"
   ]
  },
  {
   "cell_type": "code",
   "execution_count": 1,
   "metadata": {},
   "outputs": [
    {
     "name": "stdout",
     "output_type": "stream",
     "text": [
      "uid,exe,job_id,rank,ProducerName,file,record_id,module,type,max_byte,switches,flushes,cnt,op,pt_sel,irreg_hslab,reg_hslab,ndims,npoints,off,len,start,dur,total,timestamp\n",
      "12345,/projects/ovis/darshanConnector/apps/rhel9.7/ior/build/bin/ior,19040551,0,n21,<STDIN>,9.22337E+18,STDIO,MET,-1,-1,-1,1,open,-1,-1,-1,-1,-1,-1,-1,0,0,0,1713473238.945981\n",
      "12345,/projects/ovis/darshanConnector/apps/rhel9.7/ior/build/bin/ior,19040551,0,n21,<STDOUT>,9.22337E+18,STDIO,MET,-1,-1,-1,1,open,-1,-1,-1,-1,-1,-1,-1,0,0,0,1713473238.945981\n",
      "12345,/projects/ovis/darshanConnector/apps/rhel9.7/ior/build/bin/ior,19040551,0,n21,<STDERR>,7.23826E+18,STDIO,MET,-1,-1,-1,1,open,-1,-1,-1,-1,-1,-1,-1,0,0,0,1713473238.945981\n",
      "12345,N/A,19040551,0,n21,N/A,9.22337E+18,STDIO,MOD,51,-1,0,1,write,-1,-1,-1,-1,-1,0,52,0.044958,0.000003,0.000003,1713473238.990943\n"
     ]
    }
   ],
   "source": [
    "!head -n5 ./../ior/eclipse/darshan-ldms-output/csv/16m-4m/19040551-IOR_pscratch_32_none.csv"
   ]
  },
  {
   "cell_type": "markdown",
   "metadata": {},
   "source": [
    "It captures 25 columns with information about the job, I/O and timestamp."
   ]
  },
  {
   "cell_type": "markdown",
   "metadata": {},
   "source": [
    "##  Darshan-LDMS Integrator Analyzer [Demonstration]\n",
    "\n",
    "We present a set of metrics and functions to process the Darshan-LDMS Integrator output file an generate informative feedback for the user in the format of a report and visualizations. Having absolute timestamps of individual I/O events can also be used to perform I/O analysis and identify bottlenecks at a deeper level, correlating with other system usage data, which will be explored.\n",
    "\n",
    "#### Input\n",
    "\n",
    "LDMS-Darshan Integration CSV file for an [IOR benchmark](https://github.com/hpc/ior) execution using 36 ranks, for 2 tasks (iterations) using blocks size of 16MB, and transfer size of 4MB, for 32 segments:\n",
    "\n",
    "*/ior -i 2 -b 16m -t 4m -s 32 -F -C -e -k -o /pscratch/user/iorTest/darshan*\n",
    "\n",
    "#### Output\n",
    "\n",
    "- Progress Rate Summary - *txt* file \n",
    "- Visualizations - *png* images\n",
    "\n",
    "#### Metrics - I/O Progress Rate \n",
    "\n",
    "**[Average](https://www.researchgate.net/publication/301700628_Using_SimGrid_to_Evaluate_the_Impact_of_AMPI_Load_Balancing_In_a_Geophysics_HPC_Application?channel=doi&linkId=5723a6f208ae262228aa71a4&showFulltext=true)**: Measures the average time spent computing I/O operations per rank.\n",
    "\n",
    "$$\n",
    "\\text{AVG} = \\frac{\\text{Cumulative I/O duration}}{\\text{Number of ranks}}\n",
    "$$\n",
    "\n",
    "**[Imbalance time](https://link.springer.com/chapter/10.1007/978-3-540-74466-5_17)**: Measures the execution time that would be gained if all ranks execute I/O operations for the same amount of time - perfectly balanced.\n",
    "\n",
    "$$\n",
    "\\text{IT} = \\text{Max. cumulative I/O duration} - \\text{AVG}\n",
    "$$\n",
    "\n",
    "**[Percent Imbalance](https://dl.acm.org/doi/10.1145/2304576.2304601)**: Measures the performance in % that could be gained with this balanced distribution.\n",
    "\n",
    "$$\n",
    "\\text{PI} = \\left( \\frac{\\text{Max. cumulative I/O duration}}{\\text{AVG}} - 1 \\right) \\times 100\n",
    "$$\n",
    "\n",
    "**[Imbalance Percentage](https://link.springer.com/chapter/10.1007/978-3-540-74466-5_17)**: Measures how bad is the imbalance in a range of 0 to 100, where 0 is perfectly balanced. If the IP is lower than the PI it suggests that the load imbalance is more influenced by the number of ranks than by the difference between the maximum and average loads.\n",
    "\n",
    "$$\n",
    "\\text{IP} = \\left( \\frac{\\text{Max. cumulative I/O duration} - \\text{AVG}}{\\text{Max. cumulative I/O duration}} \\right) \\times \\left( \\frac{\\text{Number of ranks}}{\\text{Number of ranks} - 1} \\right)\n",
    "$$"
   ]
  },
  {
   "cell_type": "markdown",
   "metadata": {},
   "source": [
    "### Define **input** filename and **output** filepath"
   ]
  },
  {
   "cell_type": "code",
   "execution_count": 2,
   "metadata": {},
   "outputs": [],
   "source": [
    "FILEPATH=\"./../ior/eclipse/darshan-ldms-output/csv/16m-4m/\"\n",
    "INPUTFILE=\"./../ior/eclipse/darshan-ldms-output/csv/16m-4m/19047177-IOR_pscratch_32_none.csv\""
   ]
  },
  {
   "cell_type": "markdown",
   "metadata": {},
   "source": [
    "### Code to generate the report"
   ]
  },
  {
   "cell_type": "code",
   "execution_count": 101,
   "metadata": {},
   "outputs": [],
   "source": [
    "import os, csv, time, glob, argparse, psutil\n",
    "import numpy as np\n",
    "import pandas as pd\n",
    "import matplotlib.pyplot as plt\n",
    "from matplotlib.patches import Rectangle\n",
    "import matplotlib.dates as mdates\n",
    "from math import sqrt, ceil\n",
    "import rpy2.robjects as ro\n",
    "import seaborn as sns\n",
    "from datetime import datetime\n",
    "import warnings \n",
    "warnings.filterwarnings('ignore') \n",
    "\n",
    "\n",
    "class Job:\n",
    "\n",
    "    def __init__(self, job, ranks, nodes, users, filename, exe):\n",
    "        \n",
    "        self.job = job\n",
    "        self.ranks = ranks\n",
    "        self.nodes = nodes\n",
    "        self.users = users\n",
    "        self.filename = filename\n",
    "        self.exe = exe\n",
    "\n",
    "def app_phase(df, output_file, self):\n",
    "    write_to_file(\"---------------------------------------\")\n",
    "    write_to_file(\"EXECUTION SUMMARY PER APPLICATION PHASE:\")\n",
    "    write_to_file(\"---------------------------------------\")\n",
    "\n",
    "# Calculate and write general statistics in a file\n",
    "def get_statistics(df, output_file, self):\n",
    "\n",
    "    with open(output_file, 'w') as f:\n",
    "\n",
    "        def write_to_file(*args):\n",
    "            print(\" \".join(map(str, args)), file=f, flush=True)\n",
    "\n",
    "        write_to_file(\"---------------------------------------\")\n",
    "        write_to_file(\"JOB CHARACTERISTICS:\")\n",
    "        write_to_file(\"---------------------------------------\")\n",
    "        write_to_file(\"Job ID:\", self.job)\n",
    "        write_to_file(len(self.ranks), \"Rank (s):\", sorted(self.ranks))\n",
    "        write_to_file(len(self.nodes), \"Node (s):\", sorted(self.nodes))\n",
    "        write_to_file(\"User ID:\", self.users)\n",
    "        write_to_file(\"Directory:\", self.exe)\n",
    "        write_to_file(\"Modules collected:\", df['module'].unique())\n",
    "        write_to_file(\"Module events (MOD):\", list(df.type).count('MOD'))\n",
    "        write_to_file(\"Meta events (MET):\", list(df.type).count('MET'))\n",
    "\n",
    "        df_read = df[df['op'] == \"read\"]\n",
    "        df_write = df[df['op'] == \"write\"]\n",
    "\n",
    "        write_to_file(\"---------------------------------------\")\n",
    "        write_to_file(\"I/O OPERATIONS:\")\n",
    "        write_to_file(\"---------------------------------------\")\n",
    "\n",
    "        exec_time = round(df['end'].max() - df['start'].min(), 5)\n",
    "        write_to_file(\"Total I/O makespan:\", exec_time, \"seconds\")\n",
    "        write_to_file(\"Cumulative I/O duration:\", round(df['dur'].sum(), 5), \"seconds\")\n",
    "        write_to_file(\"Bandwidth (MiB/second):\", round((df['len'].sum() / exec_time) / (1024 ** 2), 5))\n",
    "        write_to_file(\"IOPS:\", round(len(df)/exec_time, 5), \"\\n\")\n",
    "\n",
    "        current_op = None\n",
    "        phase_start = None\n",
    "        total_durations = {'read': 0, 'write': 0, 'open': 0, 'close': 0}\n",
    "\n",
    "        def update_total_duration(op, phase_start, phase_end, length):\n",
    "            if current_op is not None and current_op == op:\n",
    "                total_durations[op] += (phase_end - phase_start)\n",
    "\n",
    "        for index, row in df.iterrows():\n",
    "            if current_op is None or current_op != row['op']:\n",
    "                update_total_duration(current_op, phase_start, row['end'], row['len'])\n",
    "                current_op = row['op']\n",
    "                phase_start = row['start']\n",
    "\n",
    "        # Get the last phase\n",
    "        update_total_duration(current_op, phase_start, row['end'], row['len'])\n",
    "\n",
    "        pivot_df = df.pivot_table(index=None, columns='op', values='len', aggfunc='sum')\n",
    "        for op, duration in total_durations.items():\n",
    "            write_to_file(f'Duration {op}s: {round(duration, 4)} seconds')\n",
    "\n",
    "        write_to_file(\"\\nREADS - \", len(df_read))\n",
    "        write_to_file(\"Cumulative I/O duration:\",round(df_read['dur'].sum(),2))\n",
    "        write_to_file(\"Total data size:\",round(df_read['len'].sum() / (1024 ** 2)),  \"MiB\")\n",
    "        write_to_file(\"Min data size per rank:\", round(df_read.groupby('rank')['len'].agg('sum').min() / (1024 ** 2)), \"MiB\")\n",
    "        write_to_file(\"Max data size per rank:\", round(df_read.groupby('rank')['len'].agg('sum').max() / (1024 ** 2)), \"MiB\")\n",
    "        # write_to_file(\"Bandwidth (MiB/second):\", round((df_read['len'].sum() / total_durations['read']) / (1024 ** 2), 2))\n",
    "        # write_to_file(\"IOPS:\", round(len(df_read)/total_durations['read'], 2))\n",
    "\n",
    "        write_to_file(\"\\nWRITES - \", len(df_write))\n",
    "        write_to_file(\"Cumulative I/O duration:\",round(df_write['dur'].sum(), 2))\n",
    "        write_to_file(\"Total data size:\",round(df_write['len'].sum() / (1024 ** 2)),  \"MiB\")\n",
    "        write_to_file(\"Min data size per rank:\", round(df_write.groupby('rank')['len'].agg('sum').min() / (1024 ** 2)), \"MiB\")\n",
    "        write_to_file(\"Max data size per rank:\", round(df_write.groupby('rank')['len'].agg('sum').max() / (1024 ** 2)), \"MiB\")\n",
    "        # write_to_file(\"Bandwidth (MiB/second):\", round((df_write['len'].sum() / total_durations['write']) / (1024 ** 2),2))\n",
    "        # write_to_file(\"Mean IOPS:\", round((df_write.groupby('rank').size() / df_write.groupby('rank')['dur'].sum()).mean(), 2))\n",
    "        # write_to_file(\"IOPS:\", round(len(df_write)/total_durations['write'], 2))\n",
    "\n",
    "        # IMBALANCE METRICS:\n",
    "        write_to_file(\"---------------------------------------\")\n",
    "        write_to_file(\"I/O PROGRESS RATE:\")\n",
    "        write_to_file(\"---------------------------------------\")\n",
    "        # Get difference between execution time and time processing I/O per rank\n",
    "        \n",
    "        df_idle = df.groupby('rank')['dur'].sum().reset_index()\n",
    "        df_idle.columns = ['Rank ID', 'Rank I/O Time']\n",
    "        df_idle['Total Bytes'] = df.groupby('rank')['len'].agg('sum')\n",
    "        df_idle['Rank I/O Time'] = round(df_idle['Rank I/O Time'], 2)\n",
    "        df_idle['Total I/O Time - Rank I/O Time'] = round(exec_time - df_idle['Rank I/O Time'], 2)\n",
    "        df_idle = df_idle.sort_values(by='Rank I/O Time', ascending=False)\n",
    "        \n",
    "        num_ranks = len(self.ranks)\n",
    "        average = df['dur'].sum() / num_ranks\n",
    "        write_to_file(\"- Average:\", round(average, 2), \"seconds\")\n",
    "        std = np.std(df_idle['Rank I/O Time'])\n",
    "        write_to_file(\"- Standard deviation\", round(std, 2), \"seconds\")\n",
    "        it = df_idle['Rank I/O Time'].max() - average\n",
    "        write_to_file(\"- Imbalance Time:\", round(it, 2), \"seconds\")\n",
    "        pi = ((df_idle['Rank I/O Time'].max() / average) - 1) * 100\n",
    "        write_to_file(\"- Percent Imbalance:\", round(pi, 2), \"%\")\n",
    "        ip = (it / df_idle['Rank I/O Time'].max()) * (num_ranks / (num_ranks - 1))\n",
    "        write_to_file(\"- Imbalance Percentage:\", round(ip, 2), \"%\")\n",
    "\n",
    "        write_to_file(\"---------------------------------------\")\n",
    "        write_to_file(\"SUMMARY PER RANK: \\n(ordered by higher I/O time - all ops)\")\n",
    "        write_to_file(\"---------------------------------------\")\n",
    "        df.loc[:, 'start'] = pd.to_datetime(df['start'], unit='s').dt.round('S')\n",
    "        df.loc[:, 'end'] = pd.to_datetime(df['end'], unit='s').dt.round('S')\n",
    "        # write_to_file(df_idle)\n",
    "        write_to_file(df_idle.to_string(index=False))"
   ]
  },
  {
   "cell_type": "markdown",
   "metadata": {},
   "source": [
    "### Run to get jobs report"
   ]
  },
  {
   "cell_type": "code",
   "execution_count": 102,
   "metadata": {},
   "outputs": [
    {
     "name": "stdout",
     "output_type": "stream",
     "text": [
      "Execution time: 0.8350682258605957 seconds\n"
     ]
    }
   ],
   "source": [
    "# Read CSV file, define jobs characteristics and calculate load metrics\n",
    "def main(filename, filepath): \n",
    "\n",
    "    df = pd.read_csv(filename, engine=\"pyarrow\")\n",
    "\n",
    "    # Get basic info about each Job:\n",
    "    local_df = pd.DataFrame()\n",
    "    for i in df.job_id.unique():\n",
    "        \n",
    "        local_df = df[df['job_id'] == i].copy()\n",
    "        job = Job(i, local_df['rank'].unique(), local_df['ProducerName'].unique(),local_df['uid'].unique(), \n",
    "            local_df['file'].unique(), local_df['exe'].unique())\n",
    "\n",
    "        local_df.loc[:, 'start'] = local_df['timestamp'] - local_df['dur']\n",
    "        local_df.loc[:, 'end'] = local_df['timestamp']\n",
    "        \n",
    "        # Job characteristics and statistics:  \n",
    "        output_file = filename.replace(\".csv\", \".txt\")\n",
    "        get_statistics(local_df, output_file, job)\n",
    "\n",
    "if __name__ == '__main__':\n",
    "\n",
    "    start_time_exec = time.time()\n",
    "    main(INPUTFILE, FILEPATH)   \n",
    "    end_time_exec = time.time()\n",
    "    print(\"Execution time:\", end_time_exec - start_time_exec, \"seconds\")"
   ]
  },
  {
   "cell_type": "markdown",
   "metadata": {},
   "source": [
    "### Checking output file:"
   ]
  },
  {
   "cell_type": "code",
   "execution_count": 103,
   "metadata": {},
   "outputs": [
    {
     "name": "stdout",
     "output_type": "stream",
     "text": [
      "---------------------------------------\n",
      "JOB CHARACTERISTICS:\n",
      "---------------------------------------\n",
      "Job ID: 19047177\n",
      "36 Rank (s): [0, 1, 2, 3, 4, 5, 6, 7, 8, 9, 10, 11, 12, 13, 14, 15, 16, 17, 18, 19, 20, 21, 22, 23, 24, 25, 26, 27, 28, 29, 30, 31, 32, 33, 34, 35]\n",
      "1 Node (s): ['n1119']\n",
      "User ID: [12345]\n",
      "Directory: ['/projects/ovis/darshanConnector/apps/rhel9.7/ior/build/bin/ior' 'N/A']\n",
      "Modules collected: ['STDIO' 'POSIX']\n",
      "Module events (MOD): 18713\n",
      "Meta events (MET): 147\n",
      "---------------------------------------\n",
      "I/O OPERATIONS:\n",
      "---------------------------------------\n",
      "Total I/O makespan: 9.29758 seconds\n",
      "Cumulative I/O duration: 200.57687 seconds\n",
      "Bandwidth (MiB/second): 7929.8056\n",
      "IOPS: 2028.48483 \n",
      "\n",
      "Duration reads: 1.1035 seconds\n",
      "Duration writes: 7.2238 seconds\n",
      "Duration opens: 0.9484 seconds\n",
      "Duration closes: 1.5842 seconds\n",
      "\n",
      "READS -  9216\n",
      "Cumulative I/O duration: 29.94\n",
      "Total data size: 36864 MiB\n",
      "Min data size per rank: 1024 MiB\n",
      "Max data size per rank: 1024 MiB\n",
      "\n",
      "WRITES -  9353\n",
      "Cumulative I/O duration: 168.53\n",
      "Total data size: 36864 MiB\n",
      "Min data size per rank: 1024 MiB\n",
      "Max data size per rank: 1024 MiB\n",
      "---------------------------------------\n",
      "I/O PROGRESS RATE:\n",
      "---------------------------------------\n",
      "- Average: 5.57 seconds\n",
      "- Standard deviation 0.17 seconds\n",
      "- Imbalance Time: 0.35 seconds\n",
      "- Percent Imbalance: 6.25 %\n",
      "- Imbalance Percentage: 0.06 %\n",
      "---------------------------------------\n",
      "SUMMARY PER RANK: \n",
      "(ordered by higher I/O time - all ops)\n",
      "---------------------------------------\n",
      " Rank ID  Rank I/O Time  Total Bytes  Total I/O Time - Rank I/O Time\n",
      "       1           5.92   2147483640                            3.38\n",
      "      18           5.88   2147483640                            3.42\n",
      "      19           5.81   2147483640                            3.49\n",
      "      14           5.80   2147483640                            3.50\n",
      "      33           5.74   2147483640                            3.56\n",
      "      12           5.73   2147483640                            3.57\n",
      "       2           5.70   2147483640                            3.60\n",
      "       9           5.70   2147483640                            3.60\n",
      "       8           5.69   2147483640                            3.61\n",
      "      15           5.66   2147483640                            3.64\n",
      "      35           5.65   2147483640                            3.65\n",
      "      29           5.64   2147483640                            3.66\n",
      "      17           5.63   2147483640                            3.67\n",
      "      20           5.63   2147483640                            3.67\n",
      "      25           5.62   2147483640                            3.68\n",
      "       0           5.61   2147485930                            3.69\n",
      "      27           5.60   2147483640                            3.70\n",
      "       5           5.59   2147483640                            3.71\n",
      "      22           5.59   2147483640                            3.71\n",
      "      31           5.58   2147483640                            3.72\n",
      "      16           5.57   2147483640                            3.73\n",
      "      28           5.57   2147483640                            3.73\n",
      "      32           5.56   2147483640                            3.74\n",
      "       7           5.54   2147483640                            3.76\n",
      "      13           5.49   2147483640                            3.81\n",
      "       6           5.48   2147483640                            3.82\n",
      "      24           5.47   2147483640                            3.83\n",
      "       3           5.47   2147483640                            3.83\n",
      "      23           5.46   2147483640                            3.84\n",
      "      10           5.46   2147483640                            3.84\n",
      "      21           5.45   2147483640                            3.85\n",
      "      11           5.37   2147483640                            3.93\n",
      "      34           5.36   2147483640                            3.94\n",
      "      30           5.22   2147483640                            4.08\n",
      "       4           5.21   2147483640                            4.09\n",
      "      26           5.16   2147483640                            4.14\n"
     ]
    }
   ],
   "source": [
    "!cat $FILEPATH/19047177-IOR_pscratch_32_none.txt"
   ]
  },
  {
   "cell_type": "markdown",
   "metadata": {},
   "source": [
    "### Code for generating visualizations"
   ]
  },
  {
   "cell_type": "code",
   "execution_count": 66,
   "metadata": {},
   "outputs": [],
   "source": [
    "# Show total I/O duration per rank and operation\n",
    "def plot_time_per_operation(df, filepath, job_id):\n",
    "\n",
    "    colors = {'write': 'blue', 'open': 'green', 'close': 'red', 'read': 'orange'} \n",
    "    \n",
    "    fig, axes = plt.subplots(1, 4, figsize=(8, 3.5)) \n",
    "\n",
    "    for ax, operation in zip(axes, ['write','read', 'open', 'close']):\n",
    "        df_subset = df[df['op'] == operation].groupby('rank')['dur'].sum().reset_index()\n",
    "        df_subset.plot(kind='barh', y='dur', x='rank', color=colors[operation], ax=ax, width=0.8)\n",
    "        ax.set_xlabel('Total I/O duration (sec)')\n",
    "        ax.set_ylabel('Rank')\n",
    "        ax.set_yticks(range(0, df_subset['rank'].max(), ceil(df_subset['rank'].max()/10)))\n",
    "        ax.set_title(operation.capitalize()) \n",
    "        ax.get_legend().remove()\n",
    "        ax.set_xlim(0, df_subset['dur'].max())\n",
    "\n",
    "    plt.tight_layout()\n",
    "    plt.show()\n",
    "    plt.close()\n",
    "    plt.clf()\n",
    "    return\n",
    " \n",
    "# Show bandwidth per rank and operation \n",
    "def plot_bandwidth_per_rank(df, filepath, job_id):\n",
    "\n",
    "    df = df[df['op'].isin(['write', 'read'])]\n",
    "    df['bw'] = np.where(df['dur'] != 0, df['len'] / (df['dur'] * 2**20), 0)\n",
    "    colors = {'write': 'blue', 'read': 'orange'}\n",
    "    fig, axes = plt.subplots(1, 2, figsize=(8, 3.5))\n",
    "     \n",
    "    for ax, operation in zip(axes, ['write','read']):\n",
    "        df_subset = df[df['op'] == operation].groupby('rank')['bw'].mean().reset_index()\n",
    "        df_subset.plot(kind='barh', y='bw', x='rank', color=colors[operation], ax=ax, width=0.8)\n",
    "\n",
    "        ax.set_xlabel('Total Bandwidth (MiB/second)')\n",
    "        ax.set_ylabel('Rank')\n",
    "        ax.set_yticks(range(0, df_subset['rank'].max(), ceil(df_subset['rank'].max()/10)))\n",
    "        ax.set_title(operation.capitalize()) \n",
    "        ax.get_legend().remove()\n",
    "\n",
    "    plt.tight_layout()\n",
    "    plt.show()\n",
    "    plt.clf()\n",
    "    plt.close()\n",
    "\n",
    "    return\n",
    "\n",
    "# Plot each I/O event per rank during time\n",
    "def plot_temporal(df, filepath, job_id):\n",
    "\n",
    "    df['start'] = pd.to_datetime(df['timestamp'], unit='s') - pd.to_timedelta(df['dur'], unit='s')\n",
    "    df[['start', 'timestamp']] = df[['start', 'timestamp']].apply(pd.to_datetime)\n",
    "    df['dur'] = pd.to_timedelta(df['dur'], unit='s')\n",
    "\n",
    "    colors = {'write': 'blue', 'open': 'green', 'close': 'red', 'read': 'orange'} \n",
    "    df['color'] = df['op'].map(colors)\n",
    "    fig, ax = plt.subplots(figsize=(18, 3.5))\n",
    "\n",
    "    ax.barh(y=df['rank'], width=df['dur'], left=df['start'], color=df['color'])\n",
    "    ax.set_xlabel('Time of the day')\n",
    "    ax.set_ylabel('Rank')\n",
    "    ax.xaxis.set_major_formatter(mdates.DateFormatter('%H:%M:%S.%f'[:-3]))\n",
    "    ax.set_yticks(range(0, df['rank'].max(), ceil(df['rank'].max()/10)))\n",
    "    legend_labels = [plt.Line2D([0], [0], color=color, linewidth=3, linestyle='-') for op, color in colors.items()]\n",
    "    ax.legend(legend_labels, colors.keys(), loc='upper right')\n",
    "    first_date = df['start'].iloc[0]\n",
    "    ax.set_title(first_date.strftime(\"Date: \" + '%Y-%m-%d'))\n",
    "    ax.set_ylim(df['rank'].min()-0.5, df['rank'].max()+0.5)\n",
    "    min_time = df['start'].min()\n",
    "    max_time = df['start'].max()\n",
    "\n",
    "    plt.show()\n",
    "    plt.clf()\n",
    "    plt.close()\n",
    "\n",
    "    return\n",
    "\n",
    "\n",
    "def plot_temporal_points(df, filepath, job_id):\n",
    "\n",
    "    df['start'] = pd.to_datetime(df['timestamp'], unit='s') - pd.to_timedelta(df['dur'], unit='s')\n",
    "    df[['start', 'timestamp']] = df[['start', 'timestamp']].apply(pd.to_datetime)\n",
    "    df['dur'] = pd.to_timedelta(df['dur'], unit='s')\n",
    "\n",
    "    colors = {'write': 'blue', 'open': 'green', 'close': 'red', 'read': 'orange'} \n",
    "    df['color'] = df['op'].map(colors)\n",
    "    fig, ax = plt.subplots(figsize=(18, 5))\n",
    "\n",
    "    # Plot bars for reads and writes\n",
    "    for op in ['read', 'write']:\n",
    "        op_data = df[df['op'] == op]\n",
    "        ax.barh(y=op_data['rank'], width=op_data['dur'], left=op_data['start'], color=op_data['color'])\n",
    "\n",
    "    # Plot points for opens and closes \n",
    "    op_data = df[df['op'] == 'open']\n",
    "    ax.scatter(op_data['start'], op_data['rank'], color=op_data['color'], label=op, zorder=5, marker=\"2\")\n",
    "    op_data = df[df['op'] == 'close']\n",
    "    ax.scatter(op_data['start'], op_data['rank'], color=op_data['color'], label=op, zorder=5, marker=\"1\") \n",
    "\n",
    "    ax.set_xlabel('Time of the day')\n",
    "    ax.set_ylabel('Rank')\n",
    "    ax.xaxis.set_major_formatter(mdates.DateFormatter('%H:%M:%S.%f'[:-3]))\n",
    "    ax.set_yticks(range(0, df['rank'].max() + 1, ceil(df['rank'].max()/10)))\n",
    "\n",
    "    legend_elements = [plt.Line2D([0], [0], marker='o', color='w', markerfacecolor=color, markersize=10, label=op) for op, color in colors.items() if op in ['read', 'write']]\n",
    "    legend_elements += [plt.Line2D([0], [0], marker='2', color=colors['open'], markersize=10, markerfacecolor=colors['open'], label='open')]\n",
    "    legend_elements += [plt.Line2D([0], [0], marker='1', color=colors['close'], markersize=10, markerfacecolor=colors['close'], label='close')]\n",
    "    \n",
    "    ax.legend(handles=legend_elements, loc='upper left', bbox_to_anchor=(1, 1), borderaxespad=0.)\n",
    "\n",
    "    ax.set_ylim(df['rank'].min()-0.5, df['rank'].max()+0.5)\n",
    "    first_date = df['start'].iloc[0]\n",
    "    ax.set_title(first_date.strftime(\"Date: %Y-%m-%d\"))\n",
    "\n",
    "    plt.show()\n",
    "    plt.clf()\n",
    "    plt.close()\n",
    "\n",
    "    return"
   ]
  },
  {
   "cell_type": "markdown",
   "metadata": {},
   "source": [
    "### Run to get visualizations"
   ]
  },
  {
   "cell_type": "code",
   "execution_count": 104,
   "metadata": {},
   "outputs": [
    {
     "data": {
      "image/png": "[encoded data removed]",
      "text/plain": [
       "<Figure size 576x252 with 4 Axes>"
      ]
     },
     "metadata": {
      "needs_background": "light"
     },
     "output_type": "display_data"
    },
    {
     "data": {
      "text/plain": [
       "<Figure size 432x288 with 0 Axes>"
      ]
     },
     "metadata": {},
     "output_type": "display_data"
    },
    {
     "data": {
      "image/png": "[encoded data removed]",
      "text/plain": [
       "<Figure size 576x252 with 2 Axes>"
      ]
     },
     "metadata": {
      "needs_background": "light"
     },
     "output_type": "display_data"
    },
    {
     "data": {
      "image/png": "[encoded data removed]",
      "text/plain": [
       "<Figure size 1296x252 with 1 Axes>"
      ]
     },
     "metadata": {
      "needs_background": "light"
     },
     "output_type": "display_data"
    },
    {
     "name": "stdout",
     "output_type": "stream",
     "text": [
      "Execution time: 17.923619747161865 seconds\n"
     ]
    }
   ],
   "source": [
    "import warnings \n",
    "warnings.filterwarnings('ignore') \n",
    "\n",
    "# Read file and generate visualizations\n",
    "def main(filename, filepath): \n",
    "\n",
    "    df = pd.read_csv(filename, engine=\"pyarrow\")\n",
    "\n",
    "    # Get basic info about each Job:\n",
    "    local_df = pd.DataFrame()\n",
    "    for i in df.job_id.unique():\n",
    "        \n",
    "        local_df = df[df['job_id'] == i].copy()\n",
    "        plot_time_per_operation(local_df, filepath, i)\n",
    "        plot_bandwidth_per_rank(local_df, filepath, i)\n",
    "        plot_temporal(local_df, filepath, i)\n",
    "        \n",
    "if __name__ == '__main__':\n",
    "\n",
    "    start_time_exec = time.time()\n",
    "    main(INPUTFILE, FILEPATH)   \n",
    "    end_time_exec = time.time()\n",
    "    print(\"Execution time:\", end_time_exec - start_time_exec, \"seconds\")"
   ]
  },
  {
   "cell_type": "markdown",
   "metadata": {},
   "source": [
    "### Run to get occurrences of opens/closes"
   ]
  },
  {
   "cell_type": "code",
   "execution_count": 106,
   "metadata": {},
   "outputs": [
    {
     "data": {
      "image/png": "[encoded data removed]",
      "text/plain": [
       "<Figure size 1296x360 with 1 Axes>"
      ]
     },
     "metadata": {
      "needs_background": "light"
     },
     "output_type": "display_data"
    },
    {
     "name": "stdout",
     "output_type": "stream",
     "text": [
      "Execution time: 16.654547691345215 seconds\n"
     ]
    }
   ],
   "source": [
    "# Read file and generate visualizations\n",
    "def main(filename, filepath): \n",
    "\n",
    "    df = pd.read_csv(filename, engine=\"pyarrow\")\n",
    "\n",
    "    # Get basic info about each Job:\n",
    "    local_df = pd.DataFrame()\n",
    "    for i in df.job_id.unique():\n",
    "        \n",
    "        local_df = df[df['job_id'] == i].copy()\n",
    "        plot_temporal_points(local_df, filepath, i)\n",
    "        \n",
    "if __name__ == '__main__':\n",
    "\n",
    "    start_time_exec = time.time()\n",
    "    main(INPUTFILE, FILEPATH)   \n",
    "    end_time_exec = time.time()\n",
    "    print(\"Execution time:\", end_time_exec - start_time_exec, \"seconds\")"
   ]
  }
 ],
 "metadata": {
  "kernelspec": {
   "display_name": "Python 3 (ipykernel)",
   "language": "python",
   "name": "python3"
  },
  "language_info": {
   "codemirror_mode": {
    "name": "ipython",
    "version": 3
   },
   "file_extension": ".py",
   "mimetype": "text/x-python",
   "name": "python",
   "nbconvert_exporter": "python",
   "pygments_lexer": "ipython3",
   "version": "3.8.10"
  },
  "vscode": {
   "interpreter": {
    "hash": "e7370f93d1d0cde622a1f8e1c04877d8463912d04d973331ad4851f04de6915a"
   }
  }
 },
 "nbformat": 4,
 "nbformat_minor": 4
}
