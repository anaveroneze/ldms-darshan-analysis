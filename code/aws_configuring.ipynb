{
 "cells": [
  {
   "cell_type": "markdown",
   "metadata": {},
   "source": [
    "# Install and configure LDMS-Darshan in the cloud using AWS\n",
    "\n",
    "Documentation: https://ovis-hpc.readthedocs.io/en/latest/ldms/ldms-streams.html#compile-and-build-with-ldms\n",
    "\n",
    "Instructions for a single node instance for now.\n",
    "\n",
    "## AWS Instance\n",
    "\n",
    "We are using the free-trial eligible instance **t2.micro** to test running Darshan-LDMS in the cloud. \n",
    "\n",
    "Select an Ubuntu based instance with default configurations. Click **Lauch instance** and access it through ssh connection:\n",
    "\n",
    "![static analysis post collecting data](aws1.png)\n",
    "\n",
    "![static analysis post collecting data](aws2.png)\n"
   ]
  },
  {
   "cell_type": "markdown",
   "metadata": {},
   "source": [
    "## LDMS - Install and configure "
   ]
  },
  {
   "cell_type": "code",
   "execution_count": null,
   "metadata": {
    "vscode": {
     "languageId": "powershell"
    }
   },
   "outputs": [],
   "source": [
    "sudo apt-get install autoconf -y \n",
    "sudo apt-get install pkg-config -y\n",
    "sudo apt-get update -y\n",
    "\n",
    "sudo apt-get install hdf5-tools libhdf5-openmpi-dev openmpi-bin -y\n",
    "sudo apt-get install python3.10 -y \n",
    "sudo apt-get install python-dev-is-python3 -y\n",
    "sudo apt-get install make -y \n",
    "sudo apt-get install bison -y \n",
    "sudo apt-get install flex -y\n",
    "sudo apt-get update -y\n",
    "\n",
    "git clone https://github.com/ovis-hpc/ovis.git \n",
    "cd ovis && mkdir build\n",
    "./autogen.sh && cd build\n",
    "../configure --prefix=${HOME}/ovis/build \n",
    "make\n",
    "make install"
   ]
  },
  {
   "cell_type": "markdown",
   "metadata": {},
   "source": [
    "Create an script to easily setup the LDMS path in the environment - named *set-ldms-env.sh*\n",
    "\n",
    "The hostname in an instance is defined by its ip address, exp: ip-172-31-35-162"
   ]
  },
  {
   "cell_type": "code",
   "execution_count": null,
   "metadata": {
    "vscode": {
     "languageId": "shellscript"
    }
   },
   "outputs": [],
   "source": [
    "#!/bin/sh\n",
    "export LDMS_INSTALL_PATH=/home/ubuntu/ovis/build\n",
    "export LD_LIBRARY_PATH=$LDMS_INSTALL_PATH/lib/:$LD_LIBRARY_PATH\n",
    "export LDMSD_PLUGIN_LIBPATH=$LDMS_INSTALL_PATH/lib/ovis-ldms\n",
    "export ZAP_LIBPATH=$LDMS_INSTALL_PATH/lib/ovis-ldms\n",
    "export PATH=$LDMS_INSTALL_PATH/sbin:$LDMS_INSTALL_PATH/bin:$PATH\n",
    "export PYTHONPATH=$LDMS_INSTALL_PATH/lib/python3.10/site-packages\n",
    "\n",
    "export COMPONENT_ID=\"1\"\n",
    "export SAMPLE_INTERVAL=\"1000000\"\n",
    "export SAMPLE_OFFSET=\"0\"\n",
    "export HOSTNAME=\"localhost\""
   ]
  },
  {
   "cell_type": "markdown",
   "metadata": {},
   "source": [
    "## Darshan - Install and configure "
   ]
  },
  {
   "cell_type": "code",
   "execution_count": null,
   "metadata": {
    "vscode": {
     "languageId": "shellscript"
    }
   },
   "outputs": [],
   "source": [
    "cd\n",
    "chmod +x set-ldms-env.sh\n",
    "source ./set-ldms-env.sh\n",
    "git clone https://github.com/darshan-hpc/darshan.git\n",
    "cd darshan\n",
    "mkdir build\n",
    "./prepare.sh && cd build/\n",
    "../configure --with-log-path=${HOME}/darshan/build/logs --prefix=${HOME}/darshan/build/install --with-jobid-env=PBS_JOBID CC=mpicc --enable-ldms-mod --with-ldms=${HOME}/ovis/build\n",
    "make\n",
    "make install"
   ]
  },
  {
   "cell_type": "markdown",
   "metadata": {},
   "source": [
    "The configure stage returns this (unsure if Python module and tools should be recognized):\n",
    "\n",
    "```\n",
    "------------------------------------------------------------------------------\n",
    "   Darshan Utility Version 3.4.4 configured with the following features:\n",
    "           C compiler                    - mpicc\n",
    "           Python module and tools       - no\n",
    "           AUTOPERF MPI  module support  - no\n",
    "           AUTOPERF APXC module support  - no\n",
    "------------------------------------------------------------------------------\n",
    "\n",
    "   Darshan Version 3.4.4\n",
    "\n",
    "   Features:  Build Darshan runtime libraries - yes\n",
    "              Build Darshan utility tools     - yes\n",
    "\n",
    "   Next step: run 'make' to build the library and/or utility tools.\n",
    "              run 'make install' to install Darshan in directory:\n",
    "              /home/ubuntu/darshan/build/install\n",
    "\n",
    "------------------------------------------------------------------------------\n",
    "\n",
    "```\n",
    "\n",
    "\n",
    "Create an script to easily setup Darshan in the environment - named *set-ldms-darshan-env.sh*"
   ]
  },
  {
   "cell_type": "code",
   "execution_count": null,
   "metadata": {
    "vscode": {
     "languageId": "shellscript"
    }
   },
   "outputs": [],
   "source": [
    "#!/bin/sh\n",
    "export DARSHAN_INSTALL_PATH=/home/ubuntu\n",
    "export LD_PRELOAD=/home/ubuntu/darshan/build/install/lib/libdarshan.so\n",
    "export LD_LIBRARY_PATH=$LD_LIBRARY_PATH:$DARSHAN_INSTALL_PATH/lib\n",
    "export DARSHAN_MOD_ENABLE=\"DXT_POSIX,DXT_MPIIO\"\n",
    "export DARSHAN_LDMS_STREAM=darshanConnector\n",
    "export DARSHAN_LDMS_XPRT=sock\n",
    "export DARSHAN_LDMS_HOST=ubuntu # SET TO THE NODE NAME THE LDMS DAEMON IS RUNNING\n",
    "export DARSHAN_LDMS_PORT=10444 # SET TO THE PORT WHERE LDMS DAEMON IS RUNNING\n",
    "export DARSHAN_LDMS_AUTH=none\n",
    "\n",
    "# enable LDMS data collection. No runtime data collection will occur if this is not exported.\n",
    "export DARSHAN_LDMS_ENABLE=\n",
    "\n",
    "# determine which modules we want to publish to ldmsd\n",
    "export DARSHAN_LDMS_ENABLE_MPIIO=\n",
    "export DARSHAN_LDMS_ENABLE_POSIX=\n",
    "export DARSHAN_LDMS_ENABLE_STDIO=\n",
    "export DARSHAN_LDMS_ENABLE_HDF5=\n",
    "export DARSHAN_LDMS_ENABLE_ALL=\n",
    "export DARSHAN_LDMS_VERBOSE=\n",
    "\n",
    "# darshanConnector\n",
    "export DARSHAN_LDMS_STREAM=darshanConnector\n",
    "export DARSHAN_LDMS_XPRT=sock\n",
    "export DARSHAN_LDMS_HOST=ip-172-31-35-162\n",
    "export DARSHAN_LDMS_PORT=10444\n",
    "export DARSHAN_LDMS_AUTH=none"
   ]
  },
  {
   "cell_type": "markdown",
   "metadata": {},
   "source": [
    "Run to set paths for Darshan:"
   ]
  },
  {
   "cell_type": "code",
   "execution_count": null,
   "metadata": {
    "vscode": {
     "languageId": "shellscript"
    }
   },
   "outputs": [],
   "source": [
    "chmod +x set-ldms-darshan-env.sh\n",
    "source ./set-ldms-darshan-env.sh"
   ]
  },
  {
   "cell_type": "markdown",
   "metadata": {},
   "source": [
    "\n",
    "### Testing LDMS-Darshan:\n",
    "\n",
    "Create the configuration file for Darshan-LDMS daemon - called *darshan_stream_store.conf*:"
   ]
  },
  {
   "cell_type": "code",
   "execution_count": null,
   "metadata": {
    "vscode": {
     "languageId": "shellscript"
    }
   },
   "outputs": [],
   "source": [
    "load name=hello_sampler\n",
    "config name=hello_sampler producer=${HOSTNAME} instance=${HOSTNAME}/hello_sampler stream=darshanConnector component_id=${COMPONENT_ID}\n",
    "start name=hello_sampler interval=${SAMPLE_INTERVAL} offset=${SAMPLE_OFFSET}\n",
    "\n",
    "load name=stream_csv_store\n",
    "config name=stream_csv_store path=./streams/store container=csv stream=darshanConnector rolltype=3 rollover=500000"
   ]
  },
  {
   "cell_type": "markdown",
   "metadata": {},
   "source": [
    "**[TERMINAL 1]** Run the deamon:\n",
    "\n",
    "Using sudo to launch an LDMS deamon, it gives permission errors to access the ldmsd.pid file otherwise."
   ]
  },
  {
   "cell_type": "code",
   "execution_count": null,
   "metadata": {
    "vscode": {
     "languageId": "shellscript"
    }
   },
   "outputs": [],
   "source": [
    "sudo su\n",
    "source set-ldms-darshan-env.sh\n",
    "source set-ldms-env.sh\n",
    "ldmsd -x sock:10444 -c darshan_stream_store.conf -l /tmp/darshan_stream_store.log -v DEBUG \n",
    "cat /tmp/darshan_stream_store.log"
   ]
  },
  {
   "cell_type": "markdown",
   "metadata": {},
   "source": [
    "Suggestion to always check the log file to see any warning or error debug message.\n",
    "\n",
    "Check it LDMS is running/connected:"
   ]
  },
  {
   "cell_type": "code",
   "execution_count": null,
   "metadata": {
    "vscode": {
     "languageId": "shellscript"
    }
   },
   "outputs": [],
   "source": [
    "ldms_ls -p 10444 -x sock -v -v\n",
    "ps auwx | grep ldmsd | grep -v grep"
   ]
  },
  {
   "cell_type": "markdown",
   "metadata": {},
   "source": [
    "Output:\n",
    "```bash\n",
    "root@ip-172-31-35-162:/home/ubuntu# ldms_ls -p 10444 -x sock -v -v\n",
    "Hostname    : localhost\n",
    "IP Address  : 127.0.0.1\n",
    "Port        : 10444\n",
    "Transport   : sock\n",
    "Schema Digest                                                    Schema         Instance                 Flags  Msize  Dsize  Hsize  UID    GID    Perm       Update            Duration          Info    \n",
    "---------------------------------------------------------------- -------------- ------------------------ ------ ------ ------ ------ ------ ------ ---------- ----------------- ----------------- --------\n",
    "root@ip-172-31-35-162:/home/ubuntu# ps auwx | grep ldmsd | grep -v grep\n",
    "ubuntu     55777  0.0  0.5 260092  4952 ?        Ssl  01:24   0:00 ldmsd -x sock:10444 -c darshan_stream_store.conf -l /tmp/darshan_stream_store.log -v DEBUG\n",
    "```\n",
    "\n",
    "No queries set:\n",
    "```bash\n",
    "ubuntu@ip-172-31-35-162:/tmp/darshan-ldms-test$ ldms_ls -h localhost -x sock -p 10444 -v \n",
    "Schema         Instance                 Flags  Msize  Dsize  Hsize  UID    GID    Perm       Update            Duration          Info    \n",
    "-------------- ------------------------ ------ ------ ------ ------ ------ ------ ---------- ----------------- ----------------- --------\n",
    "```\n",
    "\n",
    "**[TERMINAL 2]** In another terminal, run python code:"
   ]
  },
  {
   "cell_type": "code",
   "execution_count": null,
   "metadata": {
    "vscode": {
     "languageId": "shellscript"
    }
   },
   "outputs": [],
   "source": [
    "source set-ldms-darshan-env.sh\n",
    "source set-ldms-env.sh\n",
    "export PROG=mpi-io-test\n",
    "export DARSHAN_TMP=/tmp/darshan-ldms-test\n",
    "export DARSHAN_TESTDIR=/home/ubuntu/darshan/darshan-test/regression\n",
    "export DARSHAN_LOGFILE=$DARSHAN_TMP/${PROG}.darshan\n",
    "\n",
    "mkdir -p $DARSHAN_TMP\n",
    "cd $DARSHAN_TESTDIR\n",
    "mpicc $DARSHAN_TESTDIR/test-cases/src/${PROG}.c -o $DARSHAN_TMP/${PROG}\n",
    "cd $DARSHAN_TMP\n",
    "sudo ./${PROG} -f $DARSHAN_TMP/${PROG}.tmp.dat"
   ]
  },
  {
   "cell_type": "markdown",
   "metadata": {},
   "source": [
    "Application output:\n",
    "```bash\n",
    "sudo ./${PROG} -f $DARSHAN_TMP/${PROG}.tmp.dat\n",
    "# Using mpi-io calls.\n",
    "nr_procs = 1, nr_iter = 1, blk_sz = 16777216, coll = 0\n",
    "# total_size = 16777216\n",
    "# Write: min_t = 0.006564, max_t = 0.006564, mean_t = 0.006564, var_t = 0.000000\n",
    "# Read:  min_t = 0.010569, max_t = 0.010569, mean_t = 0.010569, var_t = 0.000000\n",
    "Write bandwidth = 2555.935759 Mbytes/sec\n",
    "Read bandwidth = 1587.377742 Mbytes/sec\n",
    "```\n",
    "\n",
    "Check results collected by the LDMS stream: - **RETURNING EMPTY FOR NOW!!!**\n",
    "```bash\n",
    "cat /tmp/darshan_stream_store.log\n",
    "```"
   ]
  },
  {
   "cell_type": "markdown",
   "metadata": {},
   "source": [
    "# Using multiple nodes in the cloud [to-do]\n",
    "\n",
    "```bash\n",
    "sudo apt install slurm-client\n",
    "```"
   ]
  }
 ],
 "metadata": {
  "language_info": {
   "name": "python"
  }
 },
 "nbformat": 4,
 "nbformat_minor": 2
}
