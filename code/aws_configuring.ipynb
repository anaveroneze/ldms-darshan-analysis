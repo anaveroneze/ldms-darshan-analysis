{
 "cells": [
  {
   "cell_type": "markdown",
   "metadata": {},
   "source": [
    "# Install and configure LDMS-Darshan in the cloud using AWS\n",
    "\n",
    "## AWS Instance\n",
    "\n",
    "We are using the free-trial eligible instances **t2.micro** with an Ubuntu image and default configurations for storage. \n",
    "\n",
    "Click **Lauch instance** and access it through ssh connection:\n",
    "\n",
    "![static analysis post collecting data](aws1.png)\n",
    "\n",
    "![static analysis post collecting data](aws2.png)\n"
   ]
  },
  {
   "cell_type": "markdown",
   "metadata": {},
   "source": [
    "# Single Node Execution\n",
    "\n",
    "## Video tutorial - 1 node [here.](https://drive.google.com/file/d/1xFmOxJpRhOOWyEAMkv6fxEGIFoTA4_YZ/view?usp=sharing)\n",
    "\n",
    "## Video tutorial - multinode [here.](https://drive.google.com/file/d/1kucLEIjtf3sB74HQ26iXd71TRH37eAOQ/view?usp=sharing)\n",
    "\n",
    "## Install and configure \n",
    "\n",
    "Install all dependencies, LDMS and Darshan"
   ]
  },
  {
   "cell_type": "code",
   "execution_count": null,
   "metadata": {
    "vscode": {
     "languageId": "shellscript"
    }
   },
   "outputs": [],
   "source": [
    "sudo apt-get install autoconf -y \n",
    "sudo apt-get install pkg-config -y\n",
    "sudo apt-get update -y\n",
    "\n",
    "sudo apt-get install hdf5-tools libhdf5-openmpi-dev openmpi-bin -y\n",
    "sudo apt-get install python3.10 -y \n",
    "sudo apt-get install python-dev-is-python3 -y\n",
    "sudo apt-get install make -y \n",
    "sudo apt-get install bison -y \n",
    "sudo apt-get install flex -y\n",
    "sudo apt-get update -y\n",
    "\n",
    "git clone https://github.com/ovis-hpc/ovis.git \n",
    "cd ovis && mkdir build\n",
    "./autogen.sh && cd build\n",
    "../configure --prefix=${HOME}/ovis/build \n",
    "make\n",
    "make install"
   ]
  },
  {
   "cell_type": "markdown",
   "metadata": {},
   "source": [
    "set-ldms-env.sh - Create an script to easily setup the LDMS paths and variables"
   ]
  },
  {
   "cell_type": "code",
   "execution_count": null,
   "metadata": {
    "vscode": {
     "languageId": "shellscript"
    }
   },
   "outputs": [],
   "source": [
    "#!/bin/sh\n",
    "export LDMS_INSTALL_PATH=/home/ubuntu/ovis/build\n",
    "export LD_LIBRARY_PATH=$LDMS_INSTALL_PATH/lib/:$LD_LIBRARY_PATH\n",
    "export LDMSD_PLUGIN_LIBPATH=$LDMS_INSTALL_PATH/lib/ovis-ldms\n",
    "export ZAP_LIBPATH=$LDMS_INSTALL_PATH/lib/ovis-ldms\n",
    "export PATH=$LDMS_INSTALL_PATH/sbin:$LDMS_INSTALL_PATH/bin:$PATH\n",
    "export PYTHONPATH=/usr/local/lib/python3.10/dist-packages\n",
    "\n",
    "export COMPONENT_ID=\"1\"\n",
    "export SAMPLE_INTERVAL=\"1000000\"\n",
    "export SAMPLE_OFFSET=\"0\"\n",
    "export HOSTNAME=\"localhost\""
   ]
  },
  {
   "cell_type": "code",
   "execution_count": null,
   "metadata": {
    "vscode": {
     "languageId": "shellscript"
    }
   },
   "outputs": [],
   "source": [
    "cd\n",
    "source set-ldms-env.sh\n",
    "git clone https://github.com/darshan-hpc/darshan.git\n",
    "cd darshan\n",
    "mkdir build\n",
    "./prepare.sh && cd build/\n",
    "../configure --with-log-path=${HOME}/darshan/build/logs --prefix=${HOME}/darshan/build/install --with-jobid-env=PBS_JOBID CC=mpicc --enable-ldms-mod --with-ldms=${HOME}/ovis/build\n",
    "make\n",
    "make install"
   ]
  },
  {
   "cell_type": "markdown",
   "metadata": {},
   "source": [
    "Darshan installation needs to return the following configuration, showing that LDMS runtime module was recognized:\n",
    "\n",
    "```\n",
    "   Darshan Runtime Version 3.4.4 configured with the following features:\n",
    "           MPI C compiler                - mpicc\n",
    "           GCC-compatible compiler       - yes\n",
    "           NULL          module support  - yes\n",
    "           POSIX         module support  - yes\n",
    "           STDIO         module support  - yes\n",
    "           DXT           module support  - yes\n",
    "           MPI-IO        module support  - yes\n",
    "           AUTOPERF MPI  module support  - no\n",
    "           AUTOPERF XC   module support  - no\n",
    "           HDF5          module support  - no\n",
    "           PnetCDF       module support  - no\n",
    "           BG/Q          module support  - no\n",
    "           Lustre        module support  - no\n",
    "           MDHIM         module support  - no\n",
    "           HEATMAP       module support  - yes\n",
    "           LDMS          runtime module  - yes\n",
    "           Memory alignment in bytes     - 8\n",
    "           Log file env variables        - N/A\n",
    "           Location of Darshan log files - /home/ubuntu/darshan/build/logs\n",
    "           Job ID env variable           - PBS_JOBID\n",
    "           MPI-IO hints                  - romio_no_indep_rw=true;cb_nodes=4\n",
    "```"
   ]
  },
  {
   "cell_type": "markdown",
   "metadata": {},
   "source": [
    "set-ldms-darshan-env.sh - Create an script to easily setup the Darshan paths and variables:"
   ]
  },
  {
   "cell_type": "code",
   "execution_count": null,
   "metadata": {
    "vscode": {
     "languageId": "shellscript"
    }
   },
   "outputs": [],
   "source": [
    "#!/bin/sh\n",
    "export DARSHAN_INSTALL_PATH=/home/ubuntu/darshan/build/install/\n",
    "export LD_PRELOAD=/home/ubuntu/darshan/build/install/lib/libdarshan.so\n",
    "export LD_LIBRARY_PATH=$LD_LIBRARY_PATH:$DARSHAN_INSTALL_PATH/lib\n",
    "export DARSHAN_MOD_ENABLE=\"DXT_POSIX,DXT_MPIIO\"\n",
    "\n",
    "# enable LDMS data collection. No runtime data collection will occur if this is not exported.\n",
    "export DARSHAN_LDMS_ENABLE=\n",
    "# determine which modules we want to publish to ldmsd\n",
    "export DARSHAN_LDMS_ENABLE_MPIIO=\n",
    "export DARSHAN_LDMS_ENABLE_POSIX=\n",
    "export DARSHAN_LDMS_ENABLE_STDIO=\n",
    "export DARSHAN_LDMS_ENABLE_HDF5=\n",
    "export DARSHAN_LDMS_ENABLE_ALL=\n",
    "export DARSHAN_LDMS_VERBOSE=\n",
    "\n",
    "# darshanConnector\n",
    "export DARSHAN_LDMS_STREAM=darshanConnector\n",
    "export DARSHAN_LDMS_XPRT=sock\n",
    "export DARSHAN_LDMS_HOST=localhost\n",
    "export DARSHAN_LDMS_PORT=10444\n",
    "export DARSHAN_LDMS_AUTH=none"
   ]
  },
  {
   "cell_type": "markdown",
   "metadata": {},
   "source": [
    "Set paths and variables for Darshan:"
   ]
  },
  {
   "cell_type": "code",
   "execution_count": null,
   "metadata": {
    "vscode": {
     "languageId": "shellscript"
    }
   },
   "outputs": [],
   "source": [
    "source ./set-ldms-darshan-env.sh"
   ]
  },
  {
   "cell_type": "markdown",
   "metadata": {},
   "source": [
    "\n",
    "darshan_stream_store.conf - Create the LDMS stream configuration file:"
   ]
  },
  {
   "cell_type": "code",
   "execution_count": null,
   "metadata": {
    "vscode": {
     "languageId": "shellscript"
    }
   },
   "outputs": [],
   "source": [
    "load name=hello_sampler\n",
    "config name=hello_sampler producer=${HOSTNAME} instance=${HOSTNAME}/hello_sampler stream=darshanConnector component_id=${COMPONENT_ID}\n",
    "start name=hello_sampler interval=${SAMPLE_INTERVAL} offset=${SAMPLE_OFFSET}\n",
    "\n",
    "load name=stream_csv_store\n",
    "config name=stream_csv_store path=./streams/store container=csv stream=darshanConnector rolltype=3 rollover=500000"
   ]
  },
  {
   "cell_type": "markdown",
   "metadata": {},
   "source": [
    "### **[TERMINAL 1]** Run the deamon:\n",
    "\n",
    "Check the output log file to see if there is any ERROR or relevant debug message.\n",
    "\n",
    "Check it LDMS is running/connected to the configured port."
   ]
  },
  {
   "cell_type": "code",
   "execution_count": null,
   "metadata": {
    "vscode": {
     "languageId": "shellscript"
    }
   },
   "outputs": [],
   "source": [
    "sudo chmod 1777 /var/run/\n",
    "ldmsd -x sock:10444 -c darshan_stream_store.conf -l /tmp/darshan_stream_store.log -v DEBUG \n",
    "cat /tmp/darshan_stream_store.log\n",
    "ldms_ls -p 10444 -x sock -v -v\n",
    "ps auwx | grep ldmsd | grep -v grep"
   ]
  },
  {
   "cell_type": "markdown",
   "metadata": {},
   "source": [
    "Output:\n",
    "\n",
    "```\n",
    "root@ip-172-31-35-162:/home/ubuntu# ldms_ls -p 10444 -x sock -v -v\n",
    "Hostname    : localhost\n",
    "IP Address  : 127.0.0.1\n",
    "Port        : 10444\n",
    "Transport   : sock\n",
    "Schema Digest                                                    Schema         Instance                 Flags  Msize  Dsize  Hsize  UID    GID    Perm       Update            Duration          Info    \n",
    "---------------------------------------------------------------- -------------- ------------------------ ------ ------ ------ ------ ------ ------ ---------- ----------------- ----------------- --------\n",
    "root@ip-172-31-35-162:/home/ubuntu# ps auwx | grep ldmsd | grep -v grep\n",
    "ubuntu     55777  0.0  0.5 260092  4952 ?        Ssl  01:24   0:00 ldmsd -x sock:10444 -c darshan_stream_store.conf -l /tmp/darshan_stream_store.log -v DEBUG\n",
    "```\n",
    "\n",
    "### **[TERMINAL 2]** Run the python application:"
   ]
  },
  {
   "cell_type": "code",
   "execution_count": null,
   "metadata": {
    "vscode": {
     "languageId": "shellscript"
    }
   },
   "outputs": [],
   "source": [
    "source set-ldms-darshan-env.sh\n",
    "export PROG=mpi-io-test\n",
    "export DARSHAN_TMP=/tmp/darshan-ldms-test\n",
    "export DARSHAN_TESTDIR=/home/ubuntu/darshan/darshan-test/regression\n",
    "export DARSHAN_LOGFILE=$DARSHAN_TMP/${PROG}.darshan\n",
    "\n",
    "\n",
    "mkdir -p $DARSHAN_TMP\n",
    "cd $DARSHAN_TESTDIR\n",
    "mpicc $DARSHAN_TESTDIR/test-cases/src/${PROG}.c -o $DARSHAN_TMP/${PROG}\n",
    "cd $DARSHAN_TMP\n",
    "./${PROG} -f $DARSHAN_TMP/${PROG}.tmp.dat"
   ]
  },
  {
   "cell_type": "markdown",
   "metadata": {},
   "source": [
    "Output:\n",
    "\n",
    "```\n",
    "# Using mpi-io calls.\n",
    "nr_procs = 1, nr_iter = 1, blk_sz = 16777216, coll = 0\n",
    "# total_size = 16777216\n",
    "# Write: min_t = 0.006564, max_t = 0.006564, mean_t = 0.006564, var_t = 0.000000\n",
    "# Read:  min_t = 0.010569, max_t = 0.010569, mean_t = 0.010569, var_t = 0.000000\n",
    "Write bandwidth = 2555.935759 Mbytes/sec\n",
    "Read bandwidth = 1587.377742 Mbytes/sec\n",
    "```\n",
    "\n",
    "Check results collected by the LDMS stream:"
   ]
  },
  {
   "cell_type": "code",
   "execution_count": null,
   "metadata": {
    "vscode": {
     "languageId": "shellscript"
    }
   },
   "outputs": [],
   "source": [
    "cat /tmp/darshan_stream_store.log"
   ]
  },
  {
   "cell_type": "markdown",
   "metadata": {},
   "source": [
    "# Multiple nodes Execution\n",
    "\n",
    "In the AWS dashboard, launch 2 instances under the same Virtual Private Cloud:\n",
    "\n",
    "- In Network settings choose a **subnet** and add a **security group rule** using TCP protocol, source type Anywhere and open ports range for: 10000-20000\n",
    "- Guarantee access between instances: create and share public keys and add to authorized_keys file using **ssh-keygen**"
   ]
  },
  {
   "cell_type": "code",
   "execution_count": null,
   "metadata": {
    "vscode": {
     "languageId": "shellscript"
    }
   },
   "outputs": [],
   "source": [
    "sudo apt-get install autoconf -y \n",
    "sudo apt-get install pkg-config -y\n",
    "sudo apt-get update -y\n",
    "\n",
    "sudo apt-get install hdf5-tools libhdf5-openmpi-dev openmpi-bin -y\n",
    "sudo apt-get install python3.10 -y \n",
    "sudo apt-get install python-dev-is-python3 -y\n",
    "sudo apt-get install make -y \n",
    "sudo apt-get install bison -y \n",
    "sudo apt-get install flex -y\n",
    "sudo apt-get update -y\n",
    "sudo apt install net-tools\n",
    "\n",
    "git clone https://github.com/ovis-hpc/ovis.git \n",
    "cd ovis && mkdir build\n",
    "./autogen.sh && cd build\n",
    "../configure --prefix=${HOME}/ovis/build \n",
    "make\n",
    "make install"
   ]
  },
  {
   "cell_type": "markdown",
   "metadata": {},
   "source": [
    "set-ldms-env.sh - Replace HOSTNAME with instance hostname that will launch LDMS"
   ]
  },
  {
   "cell_type": "code",
   "execution_count": null,
   "metadata": {
    "vscode": {
     "languageId": "shellscript"
    }
   },
   "outputs": [],
   "source": [
    "#!/bin/sh\n",
    "export LDMS_INSTALL_PATH=/home/ubuntu/ovis/build\n",
    "export LD_LIBRARY_PATH=$LDMS_INSTALL_PATH/lib/:$LD_LIBRARY_PATH\n",
    "export LDMSD_PLUGIN_LIBPATH=$LDMS_INSTALL_PATH/lib/ovis-ldms\n",
    "export ZAP_LIBPATH=$LDMS_INSTALL_PATH/lib/ovis-ldms\n",
    "export PATH=$LDMS_INSTALL_PATH/sbin:$LDMS_INSTALL_PATH/bin:$PATH\n",
    "export PYTHONPATH=/usr/local/lib/python3.10/dist-packages\n",
    "\n",
    "export COMPONENT_ID=\"1\"\n",
    "export SAMPLE_INTERVAL=\"1000000\"\n",
    "export SAMPLE_OFFSET=\"0\"\n",
    "export HOSTNAME=\"ip-172-31-35-72\""
   ]
  },
  {
   "cell_type": "code",
   "execution_count": null,
   "metadata": {
    "vscode": {
     "languageId": "shellscript"
    }
   },
   "outputs": [],
   "source": [
    "cd\n",
    "source set-ldms-env.sh\n",
    "git clone https://github.com/darshan-hpc/darshan.git\n",
    "cd darshan\n",
    "mkdir build\n",
    "./prepare.sh && cd build/\n",
    "../configure --with-log-path=${HOME}/darshan/build/logs --prefix=${HOME}/darshan/build/install --with-jobid-env=PBS_JOBID CC=mpicc --enable-ldms-mod --with-ldms=${HOME}/ovis/build\n",
    "make\n",
    "make install"
   ]
  },
  {
   "cell_type": "markdown",
   "metadata": {},
   "source": [
    "set-darshan-env.sh - Replace HOSTNAME with instance hostname that will launch LDMS"
   ]
  },
  {
   "cell_type": "code",
   "execution_count": null,
   "metadata": {
    "vscode": {
     "languageId": "shellscript"
    }
   },
   "outputs": [],
   "source": [
    "#!/bin/sh\n",
    "export DARSHAN_INSTALL_PATH=/home/ubuntu/darshan/build/install/\n",
    "export LD_PRELOAD=/home/ubuntu/darshan/build/install/lib/libdarshan.so\n",
    "export LD_LIBRARY_PATH=$LD_LIBRARY_PATH:$DARSHAN_INSTALL_PATH/lib\n",
    "export DARSHAN_MOD_ENABLE=\"DXT_POSIX,DXT_MPIIO\"\n",
    "\n",
    "# enable LDMS data collection. No runtime data collection will occur if this is not exported.\n",
    "export DARSHAN_LDMS_ENABLE=\n",
    "# determine which modules we want to publish to ldmsd\n",
    "export DARSHAN_LDMS_ENABLE_MPIIO=\n",
    "export DARSHAN_LDMS_ENABLE_POSIX=\n",
    "export DARSHAN_LDMS_ENABLE_STDIO=\n",
    "export DARSHAN_LDMS_ENABLE_HDF5=\n",
    "export DARSHAN_LDMS_ENABLE_ALL=\n",
    "export DARSHAN_LDMS_VERBOSE=\n",
    "\n",
    "# darshanConnector\n",
    "export DARSHAN_LDMS_STREAM=darshanConnector\n",
    "export DARSHAN_LDMS_XPRT=sock\n",
    "export DARSHAN_LDMS_HOST=\"ip-172-31-35-72\"\n",
    "export DARSHAN_LDMS_PORT=10444\n",
    "export DARSHAN_LDMS_AUTH=none"
   ]
  },
  {
   "cell_type": "code",
   "execution_count": null,
   "metadata": {
    "vscode": {
     "languageId": "shellscript"
    }
   },
   "outputs": [],
   "source": [
    "source set-ldms-darshan-env.sh"
   ]
  },
  {
   "cell_type": "code",
   "execution_count": null,
   "metadata": {
    "vscode": {
     "languageId": "shellscript"
    }
   },
   "outputs": [],
   "source": [
    "darshan_stream_store.conf"
   ]
  },
  {
   "cell_type": "code",
   "execution_count": null,
   "metadata": {
    "vscode": {
     "languageId": "shellscript"
    }
   },
   "outputs": [],
   "source": [
    "load name=hello_sampler\n",
    "config name=hello_sampler producer=${HOSTNAME} instance=${HOSTNAME}/hello_sampler stream=darshanConnector component_id=${COMPONENT_ID}\n",
    "start name=hello_sampler interval=${SAMPLE_INTERVAL} offset=${SAMPLE_OFFSET}\n",
    "\n",
    "load name=stream_csv_store\n",
    "config name=stream_csv_store path=./streams/store container=csv stream=darshanConnector rolltype=3 rollover=500000"
   ]
  },
  {
   "cell_type": "markdown",
   "metadata": {},
   "source": [
    "**Node 1 - Running LDMS-Darshan daemon:**\n",
    "\n",
    "- Check if the server running LDMS port is open and listening:\n",
    "- Check if there are firewalls blocking the access:"
   ]
  },
  {
   "cell_type": "code",
   "execution_count": null,
   "metadata": {
    "vscode": {
     "languageId": "shellscript"
    }
   },
   "outputs": [],
   "source": [
    "sudo chmod 1777 /var/run/\n",
    "ldmsd -x sock:10444 -c darshan_stream_store.conf -l /tmp/darshan_stream_store.log -v DEBUG \n",
    "cat /tmp/darshan_stream_store.log\n",
    "ldms_ls -p 10444 -x sock -v -v\n",
    "ps auwx | grep ldmsd | grep -v grep\n",
    "netstat -tuln | grep 10444\n",
    "sudo iptables -L OUTPUT --line-numbers"
   ]
  },
  {
   "cell_type": "markdown",
   "metadata": {},
   "source": [
    "**Node 2 - Running application:**\n",
    "\n",
    "- Run MPI application\n",
    "- Check if LDMS connector is collecting data"
   ]
  },
  {
   "cell_type": "code",
   "execution_count": null,
   "metadata": {
    "vscode": {
     "languageId": "shellscript"
    }
   },
   "outputs": [],
   "source": [
    "export PROG=mpi-io-test\n",
    "export DARSHAN_TMP=/tmp/darshan-ldms-test\n",
    "export DARSHAN_TESTDIR=/home/ubuntu/darshan/darshan-test/regression\n",
    "export DARSHAN_LOGFILE=$DARSHAN_TMP/${PROG}.darshan\n",
    "\n",
    "mkdir -p $DARSHAN_TMP\n",
    "cd $DARSHAN_TESTDIR\n",
    "mpicc $DARSHAN_TESTDIR/test-cases/src/${PROG}.c -o $DARSHAN_TMP/${PROG}\n",
    "cd $DARSHAN_TMP\n",
    "./${PROG} -f $DARSHAN_TMP/${PROG}.tmp.dat\n",
    "cat /tmp/darshan_stream_store.log"
   ]
  },
  {
   "cell_type": "markdown",
   "metadata": {},
   "source": [
    "CSV files located in the path configured in file darshan_stream_store.conf:"
   ]
  },
  {
   "cell_type": "code",
   "execution_count": null,
   "metadata": {
    "vscode": {
     "languageId": "shellscript"
    }
   },
   "outputs": [],
   "source": [
    "ls ./streams/store/csv/"
   ]
  }
 ],
 "metadata": {
  "kernelspec": {
   "display_name": "Python 3.8.10 64-bit",
   "language": "python",
   "name": "python3"
  },
  "language_info": {
   "codemirror_mode": {
    "name": "ipython",
    "version": 3
   },
   "file_extension": ".py",
   "mimetype": "text/x-python",
   "name": "python",
   "nbconvert_exporter": "python",
   "pygments_lexer": "ipython3",
   "version": "3.8.10"
  },
  "vscode": {
   "interpreter": {
    "hash": "e7370f93d1d0cde622a1f8e1c04877d8463912d04d973331ad4851f04de6915a"
   }
  }
 },
 "nbformat": 4,
 "nbformat_minor": 2
}
